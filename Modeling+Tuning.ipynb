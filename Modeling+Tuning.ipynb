{
  "cells": [
    {
      "cell_type": "markdown",
      "metadata": {
        "colab_type": "text",
        "id": "view-in-github"
      },
      "source": [
        "<a href=\"https://colab.research.google.com/github/davidcamilo0710/QATAR_2022_Prediction/blob/master/Modeling%2BTuning.ipynb\" target=\"_parent\"><img src=\"https://colab.research.google.com/assets/colab-badge.svg\" alt=\"Open In Colab\"/></a>"
      ]
    },
    {
      "cell_type": "markdown",
      "metadata": {
        "id": "xgRGGMJ00hy1"
      },
      "source": [
        "# INDEX\n",
        "- RESUME\n",
        "- GROUP STAGE MODELING\n",
        "  - Choosing the model\n",
        "  - XGB Boost - Tuning & Hold-out Validation\n",
        "  - Creating a pipeline for the XGB model\n",
        "- KNOCKOUT STAGE MODELING\n",
        "  - Choosing a model for the Knockout Stage\n",
        "  - Random Forest - Tuning & Hold-out Validation\n",
        "  - XGB Boost - Tuning & Hold-out Validation\n",
        "  - Creating a pipeline for the XGB Boost model"
      ]
    },
    {
      "cell_type": "markdown",
      "metadata": {
        "id": "_7_ON8XCYkI7"
      },
      "source": [
        "# RESUME"
      ]
    },
    {
      "cell_type": "code",
      "execution_count": 1,
      "metadata": {
        "_cell_guid": "b1076dfc-b9ad-4769-8c92-a6c4dae69d19",
        "_uuid": "8f2839f25d086af736a60e9eeb907d3b93b6e0e5",
        "execution": {
          "iopub.execute_input": "2022-09-16T05:39:39.646382Z",
          "iopub.status.busy": "2022-09-16T05:39:39.646004Z",
          "iopub.status.idle": "2022-09-16T05:39:40.126489Z",
          "shell.execute_reply": "2022-09-16T05:39:40.125346Z",
          "shell.execute_reply.started": "2022-09-16T05:39:39.646359Z"
        },
        "id": "bR2H_TM4czyy"
      },
      "outputs": [],
      "source": [
        "import numpy as np \n",
        "import pandas as pd\n",
        "import matplotlib.pyplot as plt\n",
        "import seaborn as sns\n",
        "import os"
      ]
    },
    {
      "cell_type": "code",
      "execution_count": 6,
      "metadata": {
        "colab": {
          "base_uri": "https://localhost:8080/",
          "height": 287
        },
        "execution": {
          "iopub.execute_input": "2022-09-16T05:38:38.577404Z",
          "iopub.status.busy": "2022-09-16T05:38:38.57718Z",
          "iopub.status.idle": "2022-09-16T05:38:38.727653Z",
          "shell.execute_reply": "2022-09-16T05:38:38.726679Z",
          "shell.execute_reply.started": "2022-09-16T05:38:38.577382Z"
        },
        "id": "XxuELMU5czy7",
        "outputId": "03487840-f52a-47cd-bb39-30d27b205c82"
      },
      "outputs": [
        {
          "data": {
            "text/html": [
              "<div>\n",
              "<style scoped>\n",
              "    .dataframe tbody tr th:only-of-type {\n",
              "        vertical-align: middle;\n",
              "    }\n",
              "\n",
              "    .dataframe tbody tr th {\n",
              "        vertical-align: top;\n",
              "    }\n",
              "\n",
              "    .dataframe thead th {\n",
              "        text-align: right;\n",
              "    }\n",
              "</style>\n",
              "<table border=\"1\" class=\"dataframe\">\n",
              "  <thead>\n",
              "    <tr style=\"text-align: right;\">\n",
              "      <th></th>\n",
              "      <th>Team1</th>\n",
              "      <th>Team2</th>\n",
              "      <th>Team1_FIFA_RANK</th>\n",
              "      <th>Team2_FIFA_RANK</th>\n",
              "      <th>Team1_Result</th>\n",
              "      <th>Team1_Goalkeeper_Score</th>\n",
              "      <th>Team2_Goalkeeper_Score</th>\n",
              "      <th>Team1_Defense</th>\n",
              "      <th>Team1_Offense</th>\n",
              "      <th>Team1_Midfield</th>\n",
              "      <th>Team2_Defense</th>\n",
              "      <th>Team2_Offense</th>\n",
              "      <th>Team2_Midfield</th>\n",
              "    </tr>\n",
              "  </thead>\n",
              "  <tbody>\n",
              "    <tr>\n",
              "      <th>9316</th>\n",
              "      <td>Netherlands</td>\n",
              "      <td>Wales</td>\n",
              "      <td>10</td>\n",
              "      <td>18</td>\n",
              "      <td>1</td>\n",
              "      <td>81.0</td>\n",
              "      <td>74.0</td>\n",
              "      <td>85.0</td>\n",
              "      <td>83.0</td>\n",
              "      <td>84.0</td>\n",
              "      <td>75.0</td>\n",
              "      <td>73.0</td>\n",
              "      <td>78.0</td>\n",
              "    </tr>\n",
              "    <tr>\n",
              "      <th>9317</th>\n",
              "      <td>Poland</td>\n",
              "      <td>Belgium</td>\n",
              "      <td>26</td>\n",
              "      <td>2</td>\n",
              "      <td>0</td>\n",
              "      <td>87.0</td>\n",
              "      <td>89.0</td>\n",
              "      <td>75.0</td>\n",
              "      <td>85.0</td>\n",
              "      <td>76.0</td>\n",
              "      <td>81.0</td>\n",
              "      <td>86.0</td>\n",
              "      <td>86.0</td>\n",
              "    </tr>\n",
              "    <tr>\n",
              "      <th>9318</th>\n",
              "      <td>Chile</td>\n",
              "      <td>Ghana</td>\n",
              "      <td>28</td>\n",
              "      <td>60</td>\n",
              "      <td>0</td>\n",
              "      <td>79.0</td>\n",
              "      <td>74.0</td>\n",
              "      <td>76.0</td>\n",
              "      <td>77.0</td>\n",
              "      <td>78.0</td>\n",
              "      <td>76.0</td>\n",
              "      <td>76.0</td>\n",
              "      <td>78.0</td>\n",
              "    </tr>\n",
              "    <tr>\n",
              "      <th>9319</th>\n",
              "      <td>Japan</td>\n",
              "      <td>Tunisia</td>\n",
              "      <td>23</td>\n",
              "      <td>35</td>\n",
              "      <td>0</td>\n",
              "      <td>73.0</td>\n",
              "      <td>64.0</td>\n",
              "      <td>75.0</td>\n",
              "      <td>75.0</td>\n",
              "      <td>78.0</td>\n",
              "      <td>71.0</td>\n",
              "      <td>72.0</td>\n",
              "      <td>74.0</td>\n",
              "    </tr>\n",
              "    <tr>\n",
              "      <th>9320</th>\n",
              "      <td>Korea Republic</td>\n",
              "      <td>Egypt</td>\n",
              "      <td>29</td>\n",
              "      <td>32</td>\n",
              "      <td>1</td>\n",
              "      <td>75.0</td>\n",
              "      <td>70.0</td>\n",
              "      <td>73.0</td>\n",
              "      <td>80.0</td>\n",
              "      <td>74.0</td>\n",
              "      <td>70.0</td>\n",
              "      <td>79.0</td>\n",
              "      <td>71.0</td>\n",
              "    </tr>\n",
              "  </tbody>\n",
              "</table>\n",
              "</div>"
            ],
            "text/plain": [
              "               Team1    Team2  Team1_FIFA_RANK  Team2_FIFA_RANK  Team1_Result  \\\n",
              "9316     Netherlands    Wales               10               18             1   \n",
              "9317          Poland  Belgium               26                2             0   \n",
              "9318           Chile    Ghana               28               60             0   \n",
              "9319           Japan  Tunisia               23               35             0   \n",
              "9320  Korea Republic    Egypt               29               32             1   \n",
              "\n",
              "      Team1_Goalkeeper_Score  Team2_Goalkeeper_Score  Team1_Defense  \\\n",
              "9316                    81.0                    74.0           85.0   \n",
              "9317                    87.0                    89.0           75.0   \n",
              "9318                    79.0                    74.0           76.0   \n",
              "9319                    73.0                    64.0           75.0   \n",
              "9320                    75.0                    70.0           73.0   \n",
              "\n",
              "      Team1_Offense  Team1_Midfield  Team2_Defense  Team2_Offense  \\\n",
              "9316           83.0            84.0           75.0           73.0   \n",
              "9317           85.0            76.0           81.0           86.0   \n",
              "9318           77.0            78.0           76.0           76.0   \n",
              "9319           75.0            78.0           71.0           72.0   \n",
              "9320           80.0            74.0           70.0           79.0   \n",
              "\n",
              "      Team2_Midfield  \n",
              "9316            78.0  \n",
              "9317            86.0  \n",
              "9318            78.0  \n",
              "9319            74.0  \n",
              "9320            71.0  "
            ]
          },
          "execution_count": 6,
          "metadata": {},
          "output_type": "execute_result"
        }
      ],
      "source": [
        "final_df = pd.read_csv(r'data\\training.csv')\n",
        "final_df.tail()"
      ]
    },
    {
      "cell_type": "markdown",
      "metadata": {
        "id": "yi6cHFL_Yqhd"
      },
      "source": [
        "# GROUP STAGE MODELING"
      ]
    },
    {
      "cell_type": "markdown",
      "metadata": {
        "id": "FEYek9oklogj"
      },
      "source": [
        "### Choosing a model"
      ]
    },
    {
      "cell_type": "code",
      "execution_count": 7,
      "metadata": {
        "execution": {
          "iopub.execute_input": "2022-09-16T05:49:54.812466Z",
          "iopub.status.busy": "2022-09-16T05:49:54.812082Z",
          "iopub.status.idle": "2022-09-16T05:49:54.849951Z",
          "shell.execute_reply": "2022-09-16T05:49:54.848855Z",
          "shell.execute_reply.started": "2022-09-16T05:49:54.812436Z"
        },
        "id": "H9cOWH-6czzC"
      },
      "outputs": [],
      "source": [
        "# I save the original data frame in a flag to then train the final pipeline\n",
        "pipe_DF = final_df\n",
        "# Dummies for categorical columns\n",
        "final_df = pd.get_dummies(final_df)"
      ]
    },
    {
      "cell_type": "markdown",
      "metadata": {
        "id": "rdunYamEUtIi"
      },
      "source": [
        "I split the dataset into training, testing and validation."
      ]
    },
    {
      "cell_type": "code",
      "execution_count": 8,
      "metadata": {
        "execution": {
          "iopub.execute_input": "2022-09-16T05:50:10.864507Z",
          "iopub.status.busy": "2022-09-16T05:50:10.864205Z",
          "iopub.status.idle": "2022-09-16T05:50:11.012825Z",
          "shell.execute_reply": "2022-09-16T05:50:11.011552Z",
          "shell.execute_reply.started": "2022-09-16T05:50:10.864483Z"
        },
        "id": "Wol0ebMkczzC"
      },
      "outputs": [],
      "source": [
        "X = final_df.drop('Team1_Result',axis=1)\n",
        "y = final_df['Team1_Result']\n",
        "from sklearn.model_selection import train_test_split\n",
        "X_train, X_val, y_train, y_val = train_test_split(X, y, test_size=0.1, random_state=42)\n",
        "X_hold_test, X_test, y_hold_test, y_test = train_test_split(X_val, y_val, test_size=0.5, random_state=42)"
      ]
    },
    {
      "cell_type": "markdown",
      "metadata": {
        "id": "IouyQ98UUz47"
      },
      "source": [
        " Scaling"
      ]
    },
    {
      "cell_type": "code",
      "execution_count": 9,
      "metadata": {
        "execution": {
          "iopub.execute_input": "2022-09-16T05:50:18.027506Z",
          "iopub.status.busy": "2022-09-16T05:50:18.027048Z",
          "iopub.status.idle": "2022-09-16T05:50:18.084682Z",
          "shell.execute_reply": "2022-09-16T05:50:18.083441Z",
          "shell.execute_reply.started": "2022-09-16T05:50:18.027481Z"
        },
        "id": "wdrptfGGczzC"
      },
      "outputs": [],
      "source": [
        "from sklearn.preprocessing import StandardScaler\n",
        "scaler = StandardScaler()\n",
        "X_train = scaler.fit_transform(X_train)\n",
        "X_test = scaler.transform(X_test)\n",
        "X_hold_test = scaler.transform(X_hold_test)"
      ]
    },
    {
      "cell_type": "markdown",
      "metadata": {
        "id": "MFu3YzZ4U5VD"
      },
      "source": [
        "Defining function to display the confusion matrix quickly."
      ]
    },
    {
      "cell_type": "code",
      "execution_count": 10,
      "metadata": {
        "execution": {
          "iopub.execute_input": "2022-09-16T05:50:32.770991Z",
          "iopub.status.busy": "2022-09-16T05:50:32.770665Z",
          "iopub.status.idle": "2022-09-16T05:50:32.776908Z",
          "shell.execute_reply": "2022-09-16T05:50:32.775852Z",
          "shell.execute_reply.started": "2022-09-16T05:50:32.770968Z"
        },
        "id": "Fck1fWaoczzC"
      },
      "outputs": [],
      "source": [
        "from sklearn.metrics import classification_report,ConfusionMatrixDisplay\n",
        "def metrics_display(model):\n",
        "    model.fit(X_train,y_train)\n",
        "    y_pred = model.predict(X_test)\n",
        "    print(classification_report(y_test,y_pred))\n",
        "    ConfusionMatrixDisplay.from_predictions(y_test,y_pred);"
      ]
    },
    {
      "cell_type": "markdown",
      "metadata": {
        "id": "d6LD-tc1j_54"
      },
      "source": [
        "* **Random Forest**"
      ]
    },
    {
      "cell_type": "code",
      "execution_count": 11,
      "metadata": {
        "colab": {
          "base_uri": "https://localhost:8080/",
          "height": 453
        },
        "execution": {
          "iopub.execute_input": "2022-09-16T05:50:57.950879Z",
          "iopub.status.busy": "2022-09-16T05:50:57.950472Z",
          "iopub.status.idle": "2022-09-16T05:51:00.271924Z",
          "shell.execute_reply": "2022-09-16T05:51:00.270932Z",
          "shell.execute_reply.started": "2022-09-16T05:50:57.950849Z"
        },
        "id": "Hr0DZgBJczzC",
        "outputId": "2837a5a6-bb1c-4649-d91e-1da332b47eb5"
      },
      "outputs": [
        {
          "name": "stdout",
          "output_type": "stream",
          "text": [
            "              precision    recall  f1-score   support\n",
            "\n",
            "           0       0.46      0.55      0.50       116\n",
            "           1       0.62      0.73      0.67       241\n",
            "           2       0.30      0.13      0.18       110\n",
            "\n",
            "    accuracy                           0.54       467\n",
            "   macro avg       0.46      0.47      0.45       467\n",
            "weighted avg       0.51      0.54      0.51       467\n",
            "\n"
          ]
        },
        {
          "data": {
            "image/png": "[encoded data removed]",
            "text/plain": [
              "<Figure size 640x480 with 2 Axes>"
            ]
          },
          "metadata": {},
          "output_type": "display_data"
        }
      ],
      "source": [
        "from sklearn.ensemble import RandomForestClassifier\n",
        "metrics_display(RandomForestClassifier())"
      ]
    },
    {
      "cell_type": "markdown",
      "metadata": {
        "id": "3dstqo78nEgY"
      },
      "source": [
        "* **Ada Boost Classifier**"
      ]
    },
    {
      "cell_type": "code",
      "execution_count": 12,
      "metadata": {
        "colab": {
          "base_uri": "https://localhost:8080/",
          "height": 453
        },
        "execution": {
          "iopub.execute_input": "2022-09-16T05:51:10.934498Z",
          "iopub.status.busy": "2022-09-16T05:51:10.93419Z",
          "iopub.status.idle": "2022-09-16T05:51:12.170828Z",
          "shell.execute_reply": "2022-09-16T05:51:12.169815Z",
          "shell.execute_reply.started": "2022-09-16T05:51:10.934475Z"
        },
        "id": "Q2oIj_03czzC",
        "outputId": "42efdbcb-cc18-40a6-e138-3f3cb6dd8bf3"
      },
      "outputs": [
        {
          "name": "stdout",
          "output_type": "stream",
          "text": [
            "              precision    recall  f1-score   support\n",
            "\n",
            "           0       0.45      0.50      0.47       116\n",
            "           1       0.62      0.86      0.72       241\n",
            "           2       0.33      0.01      0.02       110\n",
            "\n",
            "    accuracy                           0.57       467\n",
            "   macro avg       0.47      0.46      0.40       467\n",
            "weighted avg       0.51      0.57      0.49       467\n",
            "\n"
          ]
        },
        {
          "data": {
            "image/png": "[encoded data removed]",
            "text/plain": [
              "<Figure size 640x480 with 2 Axes>"
            ]
          },
          "metadata": {},
          "output_type": "display_data"
        }
      ],
      "source": [
        "from sklearn.ensemble import AdaBoostClassifier\n",
        "metrics_display(AdaBoostClassifier())"
      ]
    },
    {
      "cell_type": "markdown",
      "metadata": {
        "id": "96xJKdtknNMQ"
      },
      "source": [
        "* **XGB Boost**"
      ]
    },
    {
      "cell_type": "code",
      "execution_count": 15,
      "metadata": {
        "colab": {
          "base_uri": "https://localhost:8080/",
          "height": 454
        },
        "execution": {
          "iopub.execute_input": "2022-09-16T05:51:20.536951Z",
          "iopub.status.busy": "2022-09-16T05:51:20.53662Z",
          "iopub.status.idle": "2022-09-16T05:51:31.515245Z",
          "shell.execute_reply": "2022-09-16T05:51:31.513991Z",
          "shell.execute_reply.started": "2022-09-16T05:51:20.536925Z"
        },
        "id": "5YCrzMIMczzC",
        "outputId": "b695859a-a779-467c-caae-0c87fe72e87e"
      },
      "outputs": [
        {
          "name": "stderr",
          "output_type": "stream",
          "text": [
            "c:\\Users\\cparker\\Anaconda\\lib\\site-packages\\xgboost\\sklearn.py:1421: UserWarning: `use_label_encoder` is deprecated in 1.7.0.\n",
            "  warnings.warn(\"`use_label_encoder` is deprecated in 1.7.0.\")\n"
          ]
        },
        {
          "name": "stdout",
          "output_type": "stream",
          "text": [
            "              precision    recall  f1-score   support\n",
            "\n",
            "           0       0.46      0.53      0.49       116\n",
            "           1       0.65      0.80      0.72       241\n",
            "           2       0.31      0.10      0.15       110\n",
            "\n",
            "    accuracy                           0.57       467\n",
            "   macro avg       0.47      0.48      0.45       467\n",
            "weighted avg       0.52      0.57      0.53       467\n",
            "\n"
          ]
        },
        {
          "data": {
            "image/png": "[encoded data removed]",
            "text/plain": [
              "<Figure size 640x480 with 2 Axes>"
            ]
          },
          "metadata": {},
          "output_type": "display_data"
        }
      ],
      "source": [
        "from xgboost import XGBClassifier\n",
        "metrics_display(XGBClassifier(use_label_encoder=False))"
      ]
    },
    {
      "cell_type": "markdown",
      "metadata": {
        "id": "K5XZMkq0nSgm"
      },
      "source": [
        "* **Neural network**\n",
        "\n"
      ]
    },
    {
      "cell_type": "code",
      "execution_count": 16,
      "metadata": {
        "colab": {
          "base_uri": "https://localhost:8080/"
        },
        "execution": {
          "iopub.execute_input": "2022-09-16T05:51:35.924252Z",
          "iopub.status.busy": "2022-09-16T05:51:35.923893Z",
          "iopub.status.idle": "2022-09-16T05:51:35.930877Z",
          "shell.execute_reply": "2022-09-16T05:51:35.930123Z",
          "shell.execute_reply.started": "2022-09-16T05:51:35.924223Z"
        },
        "id": "6O7u9zG_czzC",
        "outputId": "da4d56d1-461f-4274-96e3-3f53b5635d06"
      },
      "outputs": [
        {
          "ename": "ModuleNotFoundError",
          "evalue": "No module named 'google'",
          "output_type": "error",
          "traceback": [
            "\u001b[1;31m---------------------------------------------------------------------------\u001b[0m",
            "\u001b[1;31mModuleNotFoundError\u001b[0m                       Traceback (most recent call last)",
            "\u001b[1;32m~\\AppData\\Local\\Temp\\ipykernel_28140\\3618837721.py\u001b[0m in \u001b[0;36m<module>\u001b[1;34m\u001b[0m\n\u001b[1;32m----> 1\u001b[1;33m \u001b[1;32mimport\u001b[0m \u001b[0mkeras\u001b[0m\u001b[1;33m\u001b[0m\u001b[1;33m\u001b[0m\u001b[0m\n\u001b[0m\u001b[0;32m      2\u001b[0m \u001b[1;32mfrom\u001b[0m \u001b[0mkeras\u001b[0m \u001b[1;32mimport\u001b[0m \u001b[0mSequential\u001b[0m\u001b[1;33m\u001b[0m\u001b[1;33m\u001b[0m\u001b[0m\n\u001b[0;32m      3\u001b[0m \u001b[1;32mfrom\u001b[0m \u001b[0mkeras\u001b[0m\u001b[1;33m.\u001b[0m\u001b[0mlayers\u001b[0m \u001b[1;32mimport\u001b[0m \u001b[0mDense\u001b[0m\u001b[1;33m,\u001b[0m\u001b[0mDropout\u001b[0m\u001b[1;33m\u001b[0m\u001b[1;33m\u001b[0m\u001b[0m\n\u001b[0;32m      4\u001b[0m \u001b[1;32mfrom\u001b[0m \u001b[0mkeras\u001b[0m \u001b[1;32mimport\u001b[0m \u001b[0mInput\u001b[0m\u001b[1;33m\u001b[0m\u001b[1;33m\u001b[0m\u001b[0m\n\u001b[0;32m      5\u001b[0m \u001b[1;33m\u001b[0m\u001b[0m\n",
            "\u001b[1;32mc:\\Users\\cparker\\Anaconda\\lib\\site-packages\\keras\\__init__.py\u001b[0m in \u001b[0;36m<module>\u001b[1;34m\u001b[0m\n\u001b[0;32m     18\u001b[0m \u001b[1;33m[\u001b[0m\u001b[0mkeras\u001b[0m\u001b[1;33m.\u001b[0m\u001b[0mio\u001b[0m\u001b[1;33m]\u001b[0m\u001b[1;33m(\u001b[0m\u001b[0mhttps\u001b[0m\u001b[1;33m:\u001b[0m\u001b[1;33m//\u001b[0m\u001b[0mkeras\u001b[0m\u001b[1;33m.\u001b[0m\u001b[0mio\u001b[0m\u001b[1;33m)\u001b[0m\u001b[1;33m.\u001b[0m\u001b[1;33m\u001b[0m\u001b[1;33m\u001b[0m\u001b[0m\n\u001b[0;32m     19\u001b[0m \"\"\"\n\u001b[1;32m---> 20\u001b[1;33m \u001b[1;32mfrom\u001b[0m \u001b[0mkeras\u001b[0m \u001b[1;32mimport\u001b[0m \u001b[0mdistribute\u001b[0m\u001b[1;33m\u001b[0m\u001b[1;33m\u001b[0m\u001b[0m\n\u001b[0m\u001b[0;32m     21\u001b[0m \u001b[1;32mfrom\u001b[0m \u001b[0mkeras\u001b[0m \u001b[1;32mimport\u001b[0m \u001b[0mmodels\u001b[0m\u001b[1;33m\u001b[0m\u001b[1;33m\u001b[0m\u001b[0m\n\u001b[0;32m     22\u001b[0m \u001b[1;32mfrom\u001b[0m \u001b[0mkeras\u001b[0m\u001b[1;33m.\u001b[0m\u001b[0mengine\u001b[0m\u001b[1;33m.\u001b[0m\u001b[0minput_layer\u001b[0m \u001b[1;32mimport\u001b[0m \u001b[0mInput\u001b[0m\u001b[1;33m\u001b[0m\u001b[1;33m\u001b[0m\u001b[0m\n",
            "\u001b[1;32mc:\\Users\\cparker\\Anaconda\\lib\\site-packages\\keras\\distribute\\__init__.py\u001b[0m in \u001b[0;36m<module>\u001b[1;34m\u001b[0m\n\u001b[0;32m     16\u001b[0m \u001b[1;33m\u001b[0m\u001b[0m\n\u001b[0;32m     17\u001b[0m \u001b[1;33m\u001b[0m\u001b[0m\n\u001b[1;32m---> 18\u001b[1;33m \u001b[1;32mfrom\u001b[0m \u001b[0mkeras\u001b[0m\u001b[1;33m.\u001b[0m\u001b[0mdistribute\u001b[0m \u001b[1;32mimport\u001b[0m \u001b[0msidecar_evaluator\u001b[0m\u001b[1;33m\u001b[0m\u001b[1;33m\u001b[0m\u001b[0m\n\u001b[0m",
            "\u001b[1;32mc:\\Users\\cparker\\Anaconda\\lib\\site-packages\\keras\\distribute\\sidecar_evaluator.py\u001b[0m in \u001b[0;36m<module>\u001b[1;34m\u001b[0m\n\u001b[0;32m     15\u001b[0m \u001b[1;34m\"\"\"Python module for evaluation loop.\"\"\"\u001b[0m\u001b[1;33m\u001b[0m\u001b[1;33m\u001b[0m\u001b[0m\n\u001b[0;32m     16\u001b[0m \u001b[1;33m\u001b[0m\u001b[0m\n\u001b[1;32m---> 17\u001b[1;33m \u001b[1;32mimport\u001b[0m \u001b[0mtensorflow\u001b[0m\u001b[1;33m.\u001b[0m\u001b[0mcompat\u001b[0m\u001b[1;33m.\u001b[0m\u001b[0mv2\u001b[0m \u001b[1;32mas\u001b[0m \u001b[0mtf\u001b[0m\u001b[1;33m\u001b[0m\u001b[1;33m\u001b[0m\u001b[0m\n\u001b[0m\u001b[0;32m     18\u001b[0m \u001b[1;33m\u001b[0m\u001b[0m\n\u001b[0;32m     19\u001b[0m \u001b[1;31m# isort: off\u001b[0m\u001b[1;33m\u001b[0m\u001b[1;33m\u001b[0m\u001b[0m\n",
            "\u001b[1;32mc:\\Users\\cparker\\Anaconda\\lib\\site-packages\\tensorflow\\__init__.py\u001b[0m in \u001b[0;36m<module>\u001b[1;34m\u001b[0m\n\u001b[0;32m     35\u001b[0m \u001b[1;32mimport\u001b[0m \u001b[0mtyping\u001b[0m \u001b[1;32mas\u001b[0m \u001b[0m_typing\u001b[0m\u001b[1;33m\u001b[0m\u001b[1;33m\u001b[0m\u001b[0m\n\u001b[0;32m     36\u001b[0m \u001b[1;33m\u001b[0m\u001b[0m\n\u001b[1;32m---> 37\u001b[1;33m \u001b[1;32mfrom\u001b[0m \u001b[0mtensorflow\u001b[0m\u001b[1;33m.\u001b[0m\u001b[0mpython\u001b[0m\u001b[1;33m.\u001b[0m\u001b[0mtools\u001b[0m \u001b[1;32mimport\u001b[0m \u001b[0mmodule_util\u001b[0m \u001b[1;32mas\u001b[0m \u001b[0m_module_util\u001b[0m\u001b[1;33m\u001b[0m\u001b[1;33m\u001b[0m\u001b[0m\n\u001b[0m\u001b[0;32m     38\u001b[0m \u001b[1;32mfrom\u001b[0m \u001b[0mtensorflow\u001b[0m\u001b[1;33m.\u001b[0m\u001b[0mpython\u001b[0m\u001b[1;33m.\u001b[0m\u001b[0mutil\u001b[0m\u001b[1;33m.\u001b[0m\u001b[0mlazy_loader\u001b[0m \u001b[1;32mimport\u001b[0m \u001b[0mLazyLoader\u001b[0m \u001b[1;32mas\u001b[0m \u001b[0m_LazyLoader\u001b[0m\u001b[1;33m\u001b[0m\u001b[1;33m\u001b[0m\u001b[0m\n\u001b[0;32m     39\u001b[0m \u001b[1;33m\u001b[0m\u001b[0m\n",
            "\u001b[1;32mc:\\Users\\cparker\\Anaconda\\lib\\site-packages\\tensorflow\\python\\__init__.py\u001b[0m in \u001b[0;36m<module>\u001b[1;34m\u001b[0m\n\u001b[0;32m     35\u001b[0m \u001b[1;33m\u001b[0m\u001b[0m\n\u001b[0;32m     36\u001b[0m \u001b[1;32mfrom\u001b[0m \u001b[0mtensorflow\u001b[0m\u001b[1;33m.\u001b[0m\u001b[0mpython\u001b[0m \u001b[1;32mimport\u001b[0m \u001b[0mpywrap_tensorflow\u001b[0m \u001b[1;32mas\u001b[0m \u001b[0m_pywrap_tensorflow\u001b[0m\u001b[1;33m\u001b[0m\u001b[1;33m\u001b[0m\u001b[0m\n\u001b[1;32m---> 37\u001b[1;33m \u001b[1;32mfrom\u001b[0m \u001b[0mtensorflow\u001b[0m\u001b[1;33m.\u001b[0m\u001b[0mpython\u001b[0m\u001b[1;33m.\u001b[0m\u001b[0meager\u001b[0m \u001b[1;32mimport\u001b[0m \u001b[0mcontext\u001b[0m\u001b[1;33m\u001b[0m\u001b[1;33m\u001b[0m\u001b[0m\n\u001b[0m\u001b[0;32m     38\u001b[0m \u001b[1;33m\u001b[0m\u001b[0m\n\u001b[0;32m     39\u001b[0m \u001b[1;31m# pylint: enable=wildcard-import\u001b[0m\u001b[1;33m\u001b[0m\u001b[1;33m\u001b[0m\u001b[0m\n",
            "\u001b[1;32mc:\\Users\\cparker\\Anaconda\\lib\\site-packages\\tensorflow\\python\\eager\\context.py\u001b[0m in \u001b[0;36m<module>\u001b[1;34m\u001b[0m\n\u001b[0;32m     27\u001b[0m \u001b[1;32mimport\u001b[0m \u001b[0msix\u001b[0m\u001b[1;33m\u001b[0m\u001b[1;33m\u001b[0m\u001b[0m\n\u001b[0;32m     28\u001b[0m \u001b[1;33m\u001b[0m\u001b[0m\n\u001b[1;32m---> 29\u001b[1;33m \u001b[1;32mfrom\u001b[0m \u001b[0mtensorflow\u001b[0m\u001b[1;33m.\u001b[0m\u001b[0mcore\u001b[0m\u001b[1;33m.\u001b[0m\u001b[0mframework\u001b[0m \u001b[1;32mimport\u001b[0m \u001b[0mfunction_pb2\u001b[0m\u001b[1;33m\u001b[0m\u001b[1;33m\u001b[0m\u001b[0m\n\u001b[0m\u001b[0;32m     30\u001b[0m \u001b[1;32mfrom\u001b[0m \u001b[0mtensorflow\u001b[0m\u001b[1;33m.\u001b[0m\u001b[0mcore\u001b[0m\u001b[1;33m.\u001b[0m\u001b[0mprotobuf\u001b[0m \u001b[1;32mimport\u001b[0m \u001b[0mconfig_pb2\u001b[0m\u001b[1;33m\u001b[0m\u001b[1;33m\u001b[0m\u001b[0m\n\u001b[0;32m     31\u001b[0m \u001b[1;32mfrom\u001b[0m \u001b[0mtensorflow\u001b[0m\u001b[1;33m.\u001b[0m\u001b[0mcore\u001b[0m\u001b[1;33m.\u001b[0m\u001b[0mprotobuf\u001b[0m \u001b[1;32mimport\u001b[0m \u001b[0mcoordination_config_pb2\u001b[0m\u001b[1;33m\u001b[0m\u001b[1;33m\u001b[0m\u001b[0m\n",
            "\u001b[1;32mc:\\Users\\cparker\\Anaconda\\lib\\site-packages\\tensorflow\\core\\framework\\function_pb2.py\u001b[0m in \u001b[0;36m<module>\u001b[1;34m\u001b[0m\n\u001b[0;32m      5\u001b[0m \u001b[1;32mimport\u001b[0m \u001b[0msys\u001b[0m\u001b[1;33m\u001b[0m\u001b[1;33m\u001b[0m\u001b[0m\n\u001b[0;32m      6\u001b[0m \u001b[0m_b\u001b[0m\u001b[1;33m=\u001b[0m\u001b[0msys\u001b[0m\u001b[1;33m.\u001b[0m\u001b[0mversion_info\u001b[0m\u001b[1;33m[\u001b[0m\u001b[1;36m0\u001b[0m\u001b[1;33m]\u001b[0m\u001b[1;33m<\u001b[0m\u001b[1;36m3\u001b[0m \u001b[1;32mand\u001b[0m \u001b[1;33m(\u001b[0m\u001b[1;32mlambda\u001b[0m \u001b[0mx\u001b[0m\u001b[1;33m:\u001b[0m\u001b[0mx\u001b[0m\u001b[1;33m)\u001b[0m \u001b[1;32mor\u001b[0m \u001b[1;33m(\u001b[0m\u001b[1;32mlambda\u001b[0m \u001b[0mx\u001b[0m\u001b[1;33m:\u001b[0m\u001b[0mx\u001b[0m\u001b[1;33m.\u001b[0m\u001b[0mencode\u001b[0m\u001b[1;33m(\u001b[0m\u001b[1;34m'latin1'\u001b[0m\u001b[1;33m)\u001b[0m\u001b[1;33m)\u001b[0m\u001b[1;33m\u001b[0m\u001b[1;33m\u001b[0m\u001b[0m\n\u001b[1;32m----> 7\u001b[1;33m \u001b[1;32mfrom\u001b[0m \u001b[0mgoogle\u001b[0m\u001b[1;33m.\u001b[0m\u001b[0mprotobuf\u001b[0m \u001b[1;32mimport\u001b[0m \u001b[0mdescriptor\u001b[0m \u001b[1;32mas\u001b[0m \u001b[0m_descriptor\u001b[0m\u001b[1;33m\u001b[0m\u001b[1;33m\u001b[0m\u001b[0m\n\u001b[0m\u001b[0;32m      8\u001b[0m \u001b[1;32mfrom\u001b[0m \u001b[0mgoogle\u001b[0m\u001b[1;33m.\u001b[0m\u001b[0mprotobuf\u001b[0m \u001b[1;32mimport\u001b[0m \u001b[0mmessage\u001b[0m \u001b[1;32mas\u001b[0m \u001b[0m_message\u001b[0m\u001b[1;33m\u001b[0m\u001b[1;33m\u001b[0m\u001b[0m\n\u001b[0;32m      9\u001b[0m \u001b[1;32mfrom\u001b[0m \u001b[0mgoogle\u001b[0m\u001b[1;33m.\u001b[0m\u001b[0mprotobuf\u001b[0m \u001b[1;32mimport\u001b[0m \u001b[0mreflection\u001b[0m \u001b[1;32mas\u001b[0m \u001b[0m_reflection\u001b[0m\u001b[1;33m\u001b[0m\u001b[1;33m\u001b[0m\u001b[0m\n",
            "\u001b[1;31mModuleNotFoundError\u001b[0m: No module named 'google'"
          ]
        }
      ],
      "source": [
        "import keras\n",
        "from keras import Sequential\n",
        "from keras.layers import Dense,Dropout\n",
        "from keras import Input\n",
        "\n",
        "X_train.shape"
      ]
    },
    {
      "cell_type": "code",
      "execution_count": 12,
      "metadata": {
        "colab": {
          "base_uri": "https://localhost:8080/",
          "height": 817
        },
        "execution": {
          "iopub.execute_input": "2022-09-16T05:52:21.275855Z",
          "iopub.status.busy": "2022-09-16T05:52:21.275488Z",
          "iopub.status.idle": "2022-09-16T05:52:38.062606Z",
          "shell.execute_reply": "2022-09-16T05:52:38.061624Z",
          "shell.execute_reply.started": "2022-09-16T05:52:21.275825Z"
        },
        "id": "gJLhwN0zczzC",
        "outputId": "dc9b366d-853b-4f4b-e44a-cee79cf8a692"
      },
      "outputs": [
        {
          "name": "stdout",
          "output_type": "stream",
          "text": [
            "Epoch 1/10\n",
            "210/210 [==============================] - 2s 5ms/step - loss: 1.0081 - accuracy: 0.5297 - val_loss: 0.9068 - val_accuracy: 0.5882\n",
            "Epoch 2/10\n",
            "210/210 [==============================] - 1s 5ms/step - loss: 0.8912 - accuracy: 0.5940 - val_loss: 0.8951 - val_accuracy: 0.5793\n",
            "Epoch 3/10\n",
            "210/210 [==============================] - 1s 5ms/step - loss: 0.8717 - accuracy: 0.6024 - val_loss: 0.8955 - val_accuracy: 0.5912\n",
            "Epoch 4/10\n",
            "210/210 [==============================] - 1s 4ms/step - loss: 0.8543 - accuracy: 0.6094 - val_loss: 0.9023 - val_accuracy: 0.5816\n",
            "Epoch 5/10\n",
            "210/210 [==============================] - 1s 5ms/step - loss: 0.8419 - accuracy: 0.6152 - val_loss: 0.8984 - val_accuracy: 0.5715\n",
            "Epoch 6/10\n",
            "210/210 [==============================] - 1s 5ms/step - loss: 0.8324 - accuracy: 0.6158 - val_loss: 0.9095 - val_accuracy: 0.5822\n",
            "Epoch 7/10\n",
            "210/210 [==============================] - 1s 4ms/step - loss: 0.8138 - accuracy: 0.6262 - val_loss: 0.9053 - val_accuracy: 0.5751\n",
            "Epoch 8/10\n",
            "210/210 [==============================] - 1s 5ms/step - loss: 0.7991 - accuracy: 0.6289 - val_loss: 0.9247 - val_accuracy: 0.5816\n",
            "Epoch 9/10\n",
            "210/210 [==============================] - 1s 4ms/step - loss: 0.8068 - accuracy: 0.6286 - val_loss: 0.9254 - val_accuracy: 0.5751\n",
            "Epoch 10/10\n",
            "210/210 [==============================] - 1s 5ms/step - loss: 0.7825 - accuracy: 0.6377 - val_loss: 0.9606 - val_accuracy: 0.5703\n",
            "              precision    recall  f1-score   support\n",
            "\n",
            "           0       0.47      0.50      0.48       116\n",
            "           1       0.64      0.81      0.71       241\n",
            "           2       0.32      0.11      0.16       110\n",
            "\n",
            "    accuracy                           0.57       467\n",
            "   macro avg       0.47      0.47      0.45       467\n",
            "weighted avg       0.52      0.57      0.53       467\n",
            "\n"
          ]
        },
        {
          "data": {
            "text/plain": [
              "<sklearn.metrics._plot.confusion_matrix.ConfusionMatrixDisplay at 0x7f8a06f07550>"
            ]
          },
          "execution_count": 12,
          "metadata": {},
          "output_type": "execute_result"
        },
        {
          "data": {
            "image/png": "[encoded data removed]",
            "text/plain": [
              "<Figure size 432x288 with 2 Axes>"
            ]
          },
          "metadata": {
            "needs_background": "light"
          },
          "output_type": "display_data"
        }
      ],
      "source": [
        "model = Sequential()\n",
        "model.add(Input(shape=(404,)))\n",
        "model.add(Dense(300,activation='relu'))\n",
        "model.add(Dropout(0.3))\n",
        "model.add(Dense(200,activation='relu'))\n",
        "model.add(Dropout(0.3))\n",
        "model.add(Dense(100,activation='relu'))\n",
        "model.add(Dropout(0.3))\n",
        "model.add(Dense(3,activation='softmax'))\n",
        "model.compile(loss='sparse_categorical_crossentropy', optimizer='adam', metrics=['accuracy'])\n",
        "model.fit(X_train,y_train,epochs=10,validation_split=0.2)\n",
        "\n",
        "y_pred1 = model.predict(X_test)\n",
        "y_pred1 = np.argmax(y_pred1,axis=1)\n",
        "print(classification_report(y_test,y_pred1))\n",
        "ConfusionMatrixDisplay.from_predictions(y_test,y_pred1)"
      ]
    },
    {
      "cell_type": "markdown",
      "metadata": {
        "id": "DpjC_vaCVwRV"
      },
      "source": [
        "The XGBoost model performs better than the others, so I will tune its hyperparameters and evaluate the performance based on the validation dataset."
      ]
    },
    {
      "cell_type": "markdown",
      "metadata": {
        "id": "JBPV0DlGnp7Z"
      },
      "source": [
        "### XGB Boost - Tuning & Hold-out Validation"
      ]
    },
    {
      "cell_type": "code",
      "execution_count": 17,
      "metadata": {
        "id": "fdmvqLrLT_PT"
      },
      "outputs": [],
      "source": [
        "from sklearn.model_selection import GridSearchCV\n",
        "from sklearn.metrics import accuracy_score\n",
        "\n",
        "# Make a dictionary of hyperparameter values to search\n",
        "search_space = {\n",
        "    \"n_estimators\" : [200,250,300,350,400,450,500],\n",
        "    \"max_depth\" : [3,4,5,6,7,8,9],\n",
        "    \"gamma\" : [0.001,0.01,0.1],\n",
        "    \"learning_rate\" : [0.001,0.01,0.1]\n",
        "}"
      ]
    },
    {
      "cell_type": "code",
      "execution_count": 18,
      "metadata": {
        "id": "caOWM0IRUXYl"
      },
      "outputs": [
        {
          "name": "stderr",
          "output_type": "stream",
          "text": [
            "c:\\Users\\cparker\\Anaconda\\lib\\site-packages\\xgboost\\sklearn.py:1421: UserWarning: `use_label_encoder` is deprecated in 1.7.0.\n",
            "  warnings.warn(\"`use_label_encoder` is deprecated in 1.7.0.\")\n"
          ]
        }
      ],
      "source": [
        "# make a GridSearchCV object\n",
        "GS = GridSearchCV(estimator = XGBClassifier(use_label_encoder=False),\n",
        "                  param_grid = search_space,\n",
        "                  scoring = 'accuracy',\n",
        "                  cv = 5,\n",
        "                  verbose = 4)"
      ]
    },
    {
      "cell_type": "markdown",
      "metadata": {
        "id": "2YlaIWA8XVvg"
      },
      "source": [
        "Uncomment the following line to enable the tuning. The best result I found was: gamma = 0.01, learning_rate = 0.01, n_estimators = 300, max_depth = 4"
      ]
    },
    {
      "cell_type": "code",
      "execution_count": 19,
      "metadata": {
        "id": "tf0Hxp-7UavL"
      },
      "outputs": [
        {
          "name": "stderr",
          "output_type": "stream",
          "text": [
            "c:\\Users\\cparker\\Anaconda\\lib\\site-packages\\xgboost\\sklearn.py:1421: UserWarning: `use_label_encoder` is deprecated in 1.7.0.\n",
            "  warnings.warn(\"`use_label_encoder` is deprecated in 1.7.0.\")\n",
            "c:\\Users\\cparker\\Anaconda\\lib\\site-packages\\xgboost\\sklearn.py:1421: UserWarning: `use_label_encoder` is deprecated in 1.7.0.\n",
            "  warnings.warn(\"`use_label_encoder` is deprecated in 1.7.0.\")\n"
          ]
        },
        {
          "name": "stdout",
          "output_type": "stream",
          "text": [
            "Fitting 5 folds for each of 441 candidates, totalling 2205 fits\n",
            "[CV 1/5] END gamma=0.001, learning_rate=0.001, max_depth=3, n_estimators=200;, score=0.604 total time=  11.6s\n"
          ]
        },
        {
          "name": "stderr",
          "output_type": "stream",
          "text": [
            "c:\\Users\\cparker\\Anaconda\\lib\\site-packages\\xgboost\\sklearn.py:1421: UserWarning: `use_label_encoder` is deprecated in 1.7.0.\n",
            "  warnings.warn(\"`use_label_encoder` is deprecated in 1.7.0.\")\n"
          ]
        },
        {
          "name": "stdout",
          "output_type": "stream",
          "text": [
            "[CV 2/5] END gamma=0.001, learning_rate=0.001, max_depth=3, n_estimators=200;, score=0.595 total time=  14.4s\n"
          ]
        },
        {
          "name": "stderr",
          "output_type": "stream",
          "text": [
            "c:\\Users\\cparker\\Anaconda\\lib\\site-packages\\xgboost\\sklearn.py:1421: UserWarning: `use_label_encoder` is deprecated in 1.7.0.\n",
            "  warnings.warn(\"`use_label_encoder` is deprecated in 1.7.0.\")\n"
          ]
        },
        {
          "name": "stdout",
          "output_type": "stream",
          "text": [
            "[CV 3/5] END gamma=0.001, learning_rate=0.001, max_depth=3, n_estimators=200;, score=0.580 total time=  15.2s\n"
          ]
        },
        {
          "name": "stderr",
          "output_type": "stream",
          "text": [
            "c:\\Users\\cparker\\Anaconda\\lib\\site-packages\\xgboost\\sklearn.py:1421: UserWarning: `use_label_encoder` is deprecated in 1.7.0.\n",
            "  warnings.warn(\"`use_label_encoder` is deprecated in 1.7.0.\")\n"
          ]
        },
        {
          "name": "stdout",
          "output_type": "stream",
          "text": [
            "[CV 4/5] END gamma=0.001, learning_rate=0.001, max_depth=3, n_estimators=200;, score=0.585 total time=  13.6s\n"
          ]
        },
        {
          "name": "stderr",
          "output_type": "stream",
          "text": [
            "c:\\Users\\cparker\\Anaconda\\lib\\site-packages\\xgboost\\sklearn.py:1421: UserWarning: `use_label_encoder` is deprecated in 1.7.0.\n",
            "  warnings.warn(\"`use_label_encoder` is deprecated in 1.7.0.\")\n"
          ]
        },
        {
          "name": "stdout",
          "output_type": "stream",
          "text": [
            "[CV 5/5] END gamma=0.001, learning_rate=0.001, max_depth=3, n_estimators=200;, score=0.571 total time=  13.6s\n"
          ]
        },
        {
          "name": "stderr",
          "output_type": "stream",
          "text": [
            "c:\\Users\\cparker\\Anaconda\\lib\\site-packages\\xgboost\\sklearn.py:1421: UserWarning: `use_label_encoder` is deprecated in 1.7.0.\n",
            "  warnings.warn(\"`use_label_encoder` is deprecated in 1.7.0.\")\n"
          ]
        },
        {
          "name": "stdout",
          "output_type": "stream",
          "text": [
            "[CV 1/5] END gamma=0.001, learning_rate=0.001, max_depth=3, n_estimators=250;, score=0.604 total time=  14.7s\n"
          ]
        },
        {
          "name": "stderr",
          "output_type": "stream",
          "text": [
            "c:\\Users\\cparker\\Anaconda\\lib\\site-packages\\xgboost\\sklearn.py:1421: UserWarning: `use_label_encoder` is deprecated in 1.7.0.\n",
            "  warnings.warn(\"`use_label_encoder` is deprecated in 1.7.0.\")\n"
          ]
        },
        {
          "name": "stdout",
          "output_type": "stream",
          "text": [
            "[CV 2/5] END gamma=0.001, learning_rate=0.001, max_depth=3, n_estimators=250;, score=0.598 total time=  14.8s\n"
          ]
        },
        {
          "name": "stderr",
          "output_type": "stream",
          "text": [
            "c:\\Users\\cparker\\Anaconda\\lib\\site-packages\\xgboost\\sklearn.py:1421: UserWarning: `use_label_encoder` is deprecated in 1.7.0.\n",
            "  warnings.warn(\"`use_label_encoder` is deprecated in 1.7.0.\")\n"
          ]
        },
        {
          "name": "stdout",
          "output_type": "stream",
          "text": [
            "[CV 3/5] END gamma=0.001, learning_rate=0.001, max_depth=3, n_estimators=250;, score=0.580 total time=  15.6s\n"
          ]
        },
        {
          "name": "stderr",
          "output_type": "stream",
          "text": [
            "c:\\Users\\cparker\\Anaconda\\lib\\site-packages\\xgboost\\sklearn.py:1421: UserWarning: `use_label_encoder` is deprecated in 1.7.0.\n",
            "  warnings.warn(\"`use_label_encoder` is deprecated in 1.7.0.\")\n"
          ]
        },
        {
          "name": "stdout",
          "output_type": "stream",
          "text": [
            "[CV 4/5] END gamma=0.001, learning_rate=0.001, max_depth=3, n_estimators=250;, score=0.588 total time=  16.3s\n"
          ]
        },
        {
          "name": "stderr",
          "output_type": "stream",
          "text": [
            "c:\\Users\\cparker\\Anaconda\\lib\\site-packages\\xgboost\\sklearn.py:1421: UserWarning: `use_label_encoder` is deprecated in 1.7.0.\n",
            "  warnings.warn(\"`use_label_encoder` is deprecated in 1.7.0.\")\n"
          ]
        },
        {
          "name": "stdout",
          "output_type": "stream",
          "text": [
            "[CV 5/5] END gamma=0.001, learning_rate=0.001, max_depth=3, n_estimators=250;, score=0.571 total time=  16.5s\n"
          ]
        },
        {
          "name": "stderr",
          "output_type": "stream",
          "text": [
            "c:\\Users\\cparker\\Anaconda\\lib\\site-packages\\xgboost\\sklearn.py:1421: UserWarning: `use_label_encoder` is deprecated in 1.7.0.\n",
            "  warnings.warn(\"`use_label_encoder` is deprecated in 1.7.0.\")\n"
          ]
        },
        {
          "name": "stdout",
          "output_type": "stream",
          "text": [
            "[CV 1/5] END gamma=0.001, learning_rate=0.001, max_depth=3, n_estimators=300;, score=0.603 total time=  21.0s\n"
          ]
        },
        {
          "name": "stderr",
          "output_type": "stream",
          "text": [
            "c:\\Users\\cparker\\Anaconda\\lib\\site-packages\\xgboost\\sklearn.py:1421: UserWarning: `use_label_encoder` is deprecated in 1.7.0.\n",
            "  warnings.warn(\"`use_label_encoder` is deprecated in 1.7.0.\")\n"
          ]
        },
        {
          "name": "stdout",
          "output_type": "stream",
          "text": [
            "[CV 2/5] END gamma=0.001, learning_rate=0.001, max_depth=3, n_estimators=300;, score=0.601 total time=  21.1s\n"
          ]
        },
        {
          "name": "stderr",
          "output_type": "stream",
          "text": [
            "c:\\Users\\cparker\\Anaconda\\lib\\site-packages\\xgboost\\sklearn.py:1421: UserWarning: `use_label_encoder` is deprecated in 1.7.0.\n",
            "  warnings.warn(\"`use_label_encoder` is deprecated in 1.7.0.\")\n"
          ]
        },
        {
          "name": "stdout",
          "output_type": "stream",
          "text": [
            "[CV 3/5] END gamma=0.001, learning_rate=0.001, max_depth=3, n_estimators=300;, score=0.579 total time=  19.1s\n"
          ]
        },
        {
          "name": "stderr",
          "output_type": "stream",
          "text": [
            "c:\\Users\\cparker\\Anaconda\\lib\\site-packages\\xgboost\\sklearn.py:1421: UserWarning: `use_label_encoder` is deprecated in 1.7.0.\n",
            "  warnings.warn(\"`use_label_encoder` is deprecated in 1.7.0.\")\n"
          ]
        },
        {
          "name": "stdout",
          "output_type": "stream",
          "text": [
            "[CV 4/5] END gamma=0.001, learning_rate=0.001, max_depth=3, n_estimators=300;, score=0.587 total time=  23.6s\n"
          ]
        },
        {
          "name": "stderr",
          "output_type": "stream",
          "text": [
            "c:\\Users\\cparker\\Anaconda\\lib\\site-packages\\xgboost\\sklearn.py:1421: UserWarning: `use_label_encoder` is deprecated in 1.7.0.\n",
            "  warnings.warn(\"`use_label_encoder` is deprecated in 1.7.0.\")\n"
          ]
        },
        {
          "name": "stdout",
          "output_type": "stream",
          "text": [
            "[CV 5/5] END gamma=0.001, learning_rate=0.001, max_depth=3, n_estimators=300;, score=0.570 total time=  29.2s\n"
          ]
        },
        {
          "name": "stderr",
          "output_type": "stream",
          "text": [
            "c:\\Users\\cparker\\Anaconda\\lib\\site-packages\\xgboost\\sklearn.py:1421: UserWarning: `use_label_encoder` is deprecated in 1.7.0.\n",
            "  warnings.warn(\"`use_label_encoder` is deprecated in 1.7.0.\")\n"
          ]
        },
        {
          "name": "stdout",
          "output_type": "stream",
          "text": [
            "[CV 1/5] END gamma=0.001, learning_rate=0.001, max_depth=3, n_estimators=350;, score=0.602 total time=  28.8s\n"
          ]
        },
        {
          "name": "stderr",
          "output_type": "stream",
          "text": [
            "c:\\Users\\cparker\\Anaconda\\lib\\site-packages\\xgboost\\sklearn.py:1421: UserWarning: `use_label_encoder` is deprecated in 1.7.0.\n",
            "  warnings.warn(\"`use_label_encoder` is deprecated in 1.7.0.\")\n"
          ]
        },
        {
          "name": "stdout",
          "output_type": "stream",
          "text": [
            "[CV 2/5] END gamma=0.001, learning_rate=0.001, max_depth=3, n_estimators=350;, score=0.601 total time=  27.7s\n"
          ]
        },
        {
          "name": "stderr",
          "output_type": "stream",
          "text": [
            "c:\\Users\\cparker\\Anaconda\\lib\\site-packages\\xgboost\\sklearn.py:1421: UserWarning: `use_label_encoder` is deprecated in 1.7.0.\n",
            "  warnings.warn(\"`use_label_encoder` is deprecated in 1.7.0.\")\n"
          ]
        },
        {
          "name": "stdout",
          "output_type": "stream",
          "text": [
            "[CV 3/5] END gamma=0.001, learning_rate=0.001, max_depth=3, n_estimators=350;, score=0.580 total time=  26.1s\n"
          ]
        },
        {
          "name": "stderr",
          "output_type": "stream",
          "text": [
            "c:\\Users\\cparker\\Anaconda\\lib\\site-packages\\xgboost\\sklearn.py:1421: UserWarning: `use_label_encoder` is deprecated in 1.7.0.\n",
            "  warnings.warn(\"`use_label_encoder` is deprecated in 1.7.0.\")\n"
          ]
        },
        {
          "name": "stdout",
          "output_type": "stream",
          "text": [
            "[CV 4/5] END gamma=0.001, learning_rate=0.001, max_depth=3, n_estimators=350;, score=0.589 total time=  26.6s\n"
          ]
        },
        {
          "name": "stderr",
          "output_type": "stream",
          "text": [
            "c:\\Users\\cparker\\Anaconda\\lib\\site-packages\\xgboost\\sklearn.py:1421: UserWarning: `use_label_encoder` is deprecated in 1.7.0.\n",
            "  warnings.warn(\"`use_label_encoder` is deprecated in 1.7.0.\")\n"
          ]
        },
        {
          "name": "stdout",
          "output_type": "stream",
          "text": [
            "[CV 5/5] END gamma=0.001, learning_rate=0.001, max_depth=3, n_estimators=350;, score=0.574 total time=  23.2s\n"
          ]
        },
        {
          "name": "stderr",
          "output_type": "stream",
          "text": [
            "c:\\Users\\cparker\\Anaconda\\lib\\site-packages\\xgboost\\sklearn.py:1421: UserWarning: `use_label_encoder` is deprecated in 1.7.0.\n",
            "  warnings.warn(\"`use_label_encoder` is deprecated in 1.7.0.\")\n"
          ]
        },
        {
          "name": "stdout",
          "output_type": "stream",
          "text": [
            "[CV 1/5] END gamma=0.001, learning_rate=0.001, max_depth=3, n_estimators=400;, score=0.603 total time=  31.8s\n"
          ]
        },
        {
          "name": "stderr",
          "output_type": "stream",
          "text": [
            "c:\\Users\\cparker\\Anaconda\\lib\\site-packages\\xgboost\\sklearn.py:1421: UserWarning: `use_label_encoder` is deprecated in 1.7.0.\n",
            "  warnings.warn(\"`use_label_encoder` is deprecated in 1.7.0.\")\n"
          ]
        },
        {
          "name": "stdout",
          "output_type": "stream",
          "text": [
            "[CV 2/5] END gamma=0.001, learning_rate=0.001, max_depth=3, n_estimators=400;, score=0.603 total time=  33.4s\n"
          ]
        },
        {
          "name": "stderr",
          "output_type": "stream",
          "text": [
            "c:\\Users\\cparker\\Anaconda\\lib\\site-packages\\xgboost\\sklearn.py:1421: UserWarning: `use_label_encoder` is deprecated in 1.7.0.\n",
            "  warnings.warn(\"`use_label_encoder` is deprecated in 1.7.0.\")\n"
          ]
        },
        {
          "ename": "KeyboardInterrupt",
          "evalue": "",
          "output_type": "error",
          "traceback": [
            "\u001b[1;31m---------------------------------------------------------------------------\u001b[0m",
            "\u001b[1;31mKeyboardInterrupt\u001b[0m                         Traceback (most recent call last)",
            "\u001b[1;32m~\\AppData\\Local\\Temp\\ipykernel_28140\\4035713694.py\u001b[0m in \u001b[0;36m<module>\u001b[1;34m\u001b[0m\n\u001b[1;32m----> 1\u001b[1;33m \u001b[0mGS\u001b[0m\u001b[1;33m.\u001b[0m\u001b[0mfit\u001b[0m\u001b[1;33m(\u001b[0m\u001b[0mX_train\u001b[0m\u001b[1;33m,\u001b[0m\u001b[0my_train\u001b[0m\u001b[1;33m)\u001b[0m\u001b[1;33m\u001b[0m\u001b[1;33m\u001b[0m\u001b[0m\n\u001b[0m",
            "\u001b[1;32mc:\\Users\\cparker\\Anaconda\\lib\\site-packages\\sklearn\\model_selection\\_search.py\u001b[0m in \u001b[0;36mfit\u001b[1;34m(self, X, y, groups, **fit_params)\u001b[0m\n\u001b[0;32m    873\u001b[0m                 \u001b[1;32mreturn\u001b[0m \u001b[0mresults\u001b[0m\u001b[1;33m\u001b[0m\u001b[1;33m\u001b[0m\u001b[0m\n\u001b[0;32m    874\u001b[0m \u001b[1;33m\u001b[0m\u001b[0m\n\u001b[1;32m--> 875\u001b[1;33m             \u001b[0mself\u001b[0m\u001b[1;33m.\u001b[0m\u001b[0m_run_search\u001b[0m\u001b[1;33m(\u001b[0m\u001b[0mevaluate_candidates\u001b[0m\u001b[1;33m)\u001b[0m\u001b[1;33m\u001b[0m\u001b[1;33m\u001b[0m\u001b[0m\n\u001b[0m\u001b[0;32m    876\u001b[0m \u001b[1;33m\u001b[0m\u001b[0m\n\u001b[0;32m    877\u001b[0m             \u001b[1;31m# multimetric is determined here because in the case of a callable\u001b[0m\u001b[1;33m\u001b[0m\u001b[1;33m\u001b[0m\u001b[0m\n",
            "\u001b[1;32mc:\\Users\\cparker\\Anaconda\\lib\\site-packages\\sklearn\\model_selection\\_search.py\u001b[0m in \u001b[0;36m_run_search\u001b[1;34m(self, evaluate_candidates)\u001b[0m\n\u001b[0;32m   1377\u001b[0m     \u001b[1;32mdef\u001b[0m \u001b[0m_run_search\u001b[0m\u001b[1;33m(\u001b[0m\u001b[0mself\u001b[0m\u001b[1;33m,\u001b[0m \u001b[0mevaluate_candidates\u001b[0m\u001b[1;33m)\u001b[0m\u001b[1;33m:\u001b[0m\u001b[1;33m\u001b[0m\u001b[1;33m\u001b[0m\u001b[0m\n\u001b[0;32m   1378\u001b[0m         \u001b[1;34m\"\"\"Search all candidates in param_grid\"\"\"\u001b[0m\u001b[1;33m\u001b[0m\u001b[1;33m\u001b[0m\u001b[0m\n\u001b[1;32m-> 1379\u001b[1;33m         \u001b[0mevaluate_candidates\u001b[0m\u001b[1;33m(\u001b[0m\u001b[0mParameterGrid\u001b[0m\u001b[1;33m(\u001b[0m\u001b[0mself\u001b[0m\u001b[1;33m.\u001b[0m\u001b[0mparam_grid\u001b[0m\u001b[1;33m)\u001b[0m\u001b[1;33m)\u001b[0m\u001b[1;33m\u001b[0m\u001b[1;33m\u001b[0m\u001b[0m\n\u001b[0m\u001b[0;32m   1380\u001b[0m \u001b[1;33m\u001b[0m\u001b[0m\n\u001b[0;32m   1381\u001b[0m \u001b[1;33m\u001b[0m\u001b[0m\n",
            "\u001b[1;32mc:\\Users\\cparker\\Anaconda\\lib\\site-packages\\sklearn\\model_selection\\_search.py\u001b[0m in \u001b[0;36mevaluate_candidates\u001b[1;34m(candidate_params, cv, more_results)\u001b[0m\n\u001b[0;32m    820\u001b[0m                     )\n\u001b[0;32m    821\u001b[0m \u001b[1;33m\u001b[0m\u001b[0m\n\u001b[1;32m--> 822\u001b[1;33m                 out = parallel(\n\u001b[0m\u001b[0;32m    823\u001b[0m                     delayed(_fit_and_score)(\n\u001b[0;32m    824\u001b[0m                         \u001b[0mclone\u001b[0m\u001b[1;33m(\u001b[0m\u001b[0mbase_estimator\u001b[0m\u001b[1;33m)\u001b[0m\u001b[1;33m,\u001b[0m\u001b[1;33m\u001b[0m\u001b[1;33m\u001b[0m\u001b[0m\n",
            "\u001b[1;32mc:\\Users\\cparker\\Anaconda\\lib\\site-packages\\joblib\\parallel.py\u001b[0m in \u001b[0;36m__call__\u001b[1;34m(self, iterable)\u001b[0m\n\u001b[0;32m   1049\u001b[0m                 \u001b[0mself\u001b[0m\u001b[1;33m.\u001b[0m\u001b[0m_iterating\u001b[0m \u001b[1;33m=\u001b[0m \u001b[0mself\u001b[0m\u001b[1;33m.\u001b[0m\u001b[0m_original_iterator\u001b[0m \u001b[1;32mis\u001b[0m \u001b[1;32mnot\u001b[0m \u001b[1;32mNone\u001b[0m\u001b[1;33m\u001b[0m\u001b[1;33m\u001b[0m\u001b[0m\n\u001b[0;32m   1050\u001b[0m \u001b[1;33m\u001b[0m\u001b[0m\n\u001b[1;32m-> 1051\u001b[1;33m             \u001b[1;32mwhile\u001b[0m \u001b[0mself\u001b[0m\u001b[1;33m.\u001b[0m\u001b[0mdispatch_one_batch\u001b[0m\u001b[1;33m(\u001b[0m\u001b[0miterator\u001b[0m\u001b[1;33m)\u001b[0m\u001b[1;33m:\u001b[0m\u001b[1;33m\u001b[0m\u001b[1;33m\u001b[0m\u001b[0m\n\u001b[0m\u001b[0;32m   1052\u001b[0m                 \u001b[1;32mpass\u001b[0m\u001b[1;33m\u001b[0m\u001b[1;33m\u001b[0m\u001b[0m\n\u001b[0;32m   1053\u001b[0m \u001b[1;33m\u001b[0m\u001b[0m\n",
            "\u001b[1;32mc:\\Users\\cparker\\Anaconda\\lib\\site-packages\\joblib\\parallel.py\u001b[0m in \u001b[0;36mdispatch_one_batch\u001b[1;34m(self, iterator)\u001b[0m\n\u001b[0;32m    862\u001b[0m                 \u001b[1;32mreturn\u001b[0m \u001b[1;32mFalse\u001b[0m\u001b[1;33m\u001b[0m\u001b[1;33m\u001b[0m\u001b[0m\n\u001b[0;32m    863\u001b[0m             \u001b[1;32melse\u001b[0m\u001b[1;33m:\u001b[0m\u001b[1;33m\u001b[0m\u001b[1;33m\u001b[0m\u001b[0m\n\u001b[1;32m--> 864\u001b[1;33m                 \u001b[0mself\u001b[0m\u001b[1;33m.\u001b[0m\u001b[0m_dispatch\u001b[0m\u001b[1;33m(\u001b[0m\u001b[0mtasks\u001b[0m\u001b[1;33m)\u001b[0m\u001b[1;33m\u001b[0m\u001b[1;33m\u001b[0m\u001b[0m\n\u001b[0m\u001b[0;32m    865\u001b[0m                 \u001b[1;32mreturn\u001b[0m \u001b[1;32mTrue\u001b[0m\u001b[1;33m\u001b[0m\u001b[1;33m\u001b[0m\u001b[0m\n\u001b[0;32m    866\u001b[0m \u001b[1;33m\u001b[0m\u001b[0m\n",
            "\u001b[1;32mc:\\Users\\cparker\\Anaconda\\lib\\site-packages\\joblib\\parallel.py\u001b[0m in \u001b[0;36m_dispatch\u001b[1;34m(self, batch)\u001b[0m\n\u001b[0;32m    780\u001b[0m         \u001b[1;32mwith\u001b[0m \u001b[0mself\u001b[0m\u001b[1;33m.\u001b[0m\u001b[0m_lock\u001b[0m\u001b[1;33m:\u001b[0m\u001b[1;33m\u001b[0m\u001b[1;33m\u001b[0m\u001b[0m\n\u001b[0;32m    781\u001b[0m             \u001b[0mjob_idx\u001b[0m \u001b[1;33m=\u001b[0m \u001b[0mlen\u001b[0m\u001b[1;33m(\u001b[0m\u001b[0mself\u001b[0m\u001b[1;33m.\u001b[0m\u001b[0m_jobs\u001b[0m\u001b[1;33m)\u001b[0m\u001b[1;33m\u001b[0m\u001b[1;33m\u001b[0m\u001b[0m\n\u001b[1;32m--> 782\u001b[1;33m             \u001b[0mjob\u001b[0m \u001b[1;33m=\u001b[0m \u001b[0mself\u001b[0m\u001b[1;33m.\u001b[0m\u001b[0m_backend\u001b[0m\u001b[1;33m.\u001b[0m\u001b[0mapply_async\u001b[0m\u001b[1;33m(\u001b[0m\u001b[0mbatch\u001b[0m\u001b[1;33m,\u001b[0m \u001b[0mcallback\u001b[0m\u001b[1;33m=\u001b[0m\u001b[0mcb\u001b[0m\u001b[1;33m)\u001b[0m\u001b[1;33m\u001b[0m\u001b[1;33m\u001b[0m\u001b[0m\n\u001b[0m\u001b[0;32m    783\u001b[0m             \u001b[1;31m# A job can complete so quickly than its callback is\u001b[0m\u001b[1;33m\u001b[0m\u001b[1;33m\u001b[0m\u001b[0m\n\u001b[0;32m    784\u001b[0m             \u001b[1;31m# called before we get here, causing self._jobs to\u001b[0m\u001b[1;33m\u001b[0m\u001b[1;33m\u001b[0m\u001b[0m\n",
            "\u001b[1;32mc:\\Users\\cparker\\Anaconda\\lib\\site-packages\\joblib\\_parallel_backends.py\u001b[0m in \u001b[0;36mapply_async\u001b[1;34m(self, func, callback)\u001b[0m\n\u001b[0;32m    206\u001b[0m     \u001b[1;32mdef\u001b[0m \u001b[0mapply_async\u001b[0m\u001b[1;33m(\u001b[0m\u001b[0mself\u001b[0m\u001b[1;33m,\u001b[0m \u001b[0mfunc\u001b[0m\u001b[1;33m,\u001b[0m \u001b[0mcallback\u001b[0m\u001b[1;33m=\u001b[0m\u001b[1;32mNone\u001b[0m\u001b[1;33m)\u001b[0m\u001b[1;33m:\u001b[0m\u001b[1;33m\u001b[0m\u001b[1;33m\u001b[0m\u001b[0m\n\u001b[0;32m    207\u001b[0m         \u001b[1;34m\"\"\"Schedule a func to be run\"\"\"\u001b[0m\u001b[1;33m\u001b[0m\u001b[1;33m\u001b[0m\u001b[0m\n\u001b[1;32m--> 208\u001b[1;33m         \u001b[0mresult\u001b[0m \u001b[1;33m=\u001b[0m \u001b[0mImmediateResult\u001b[0m\u001b[1;33m(\u001b[0m\u001b[0mfunc\u001b[0m\u001b[1;33m)\u001b[0m\u001b[1;33m\u001b[0m\u001b[1;33m\u001b[0m\u001b[0m\n\u001b[0m\u001b[0;32m    209\u001b[0m         \u001b[1;32mif\u001b[0m \u001b[0mcallback\u001b[0m\u001b[1;33m:\u001b[0m\u001b[1;33m\u001b[0m\u001b[1;33m\u001b[0m\u001b[0m\n\u001b[0;32m    210\u001b[0m             \u001b[0mcallback\u001b[0m\u001b[1;33m(\u001b[0m\u001b[0mresult\u001b[0m\u001b[1;33m)\u001b[0m\u001b[1;33m\u001b[0m\u001b[1;33m\u001b[0m\u001b[0m\n",
            "\u001b[1;32mc:\\Users\\cparker\\Anaconda\\lib\\site-packages\\joblib\\_parallel_backends.py\u001b[0m in \u001b[0;36m__init__\u001b[1;34m(self, batch)\u001b[0m\n\u001b[0;32m    570\u001b[0m         \u001b[1;31m# Don't delay the application, to avoid keeping the input\u001b[0m\u001b[1;33m\u001b[0m\u001b[1;33m\u001b[0m\u001b[0m\n\u001b[0;32m    571\u001b[0m         \u001b[1;31m# arguments in memory\u001b[0m\u001b[1;33m\u001b[0m\u001b[1;33m\u001b[0m\u001b[0m\n\u001b[1;32m--> 572\u001b[1;33m         \u001b[0mself\u001b[0m\u001b[1;33m.\u001b[0m\u001b[0mresults\u001b[0m \u001b[1;33m=\u001b[0m \u001b[0mbatch\u001b[0m\u001b[1;33m(\u001b[0m\u001b[1;33m)\u001b[0m\u001b[1;33m\u001b[0m\u001b[1;33m\u001b[0m\u001b[0m\n\u001b[0m\u001b[0;32m    573\u001b[0m \u001b[1;33m\u001b[0m\u001b[0m\n\u001b[0;32m    574\u001b[0m     \u001b[1;32mdef\u001b[0m \u001b[0mget\u001b[0m\u001b[1;33m(\u001b[0m\u001b[0mself\u001b[0m\u001b[1;33m)\u001b[0m\u001b[1;33m:\u001b[0m\u001b[1;33m\u001b[0m\u001b[1;33m\u001b[0m\u001b[0m\n",
            "\u001b[1;32mc:\\Users\\cparker\\Anaconda\\lib\\site-packages\\joblib\\parallel.py\u001b[0m in \u001b[0;36m__call__\u001b[1;34m(self)\u001b[0m\n\u001b[0;32m    261\u001b[0m         \u001b[1;31m# change the default number of processes to -1\u001b[0m\u001b[1;33m\u001b[0m\u001b[1;33m\u001b[0m\u001b[0m\n\u001b[0;32m    262\u001b[0m         \u001b[1;32mwith\u001b[0m \u001b[0mparallel_backend\u001b[0m\u001b[1;33m(\u001b[0m\u001b[0mself\u001b[0m\u001b[1;33m.\u001b[0m\u001b[0m_backend\u001b[0m\u001b[1;33m,\u001b[0m \u001b[0mn_jobs\u001b[0m\u001b[1;33m=\u001b[0m\u001b[0mself\u001b[0m\u001b[1;33m.\u001b[0m\u001b[0m_n_jobs\u001b[0m\u001b[1;33m)\u001b[0m\u001b[1;33m:\u001b[0m\u001b[1;33m\u001b[0m\u001b[1;33m\u001b[0m\u001b[0m\n\u001b[1;32m--> 263\u001b[1;33m             return [func(*args, **kwargs)\n\u001b[0m\u001b[0;32m    264\u001b[0m                     for func, args, kwargs in self.items]\n\u001b[0;32m    265\u001b[0m \u001b[1;33m\u001b[0m\u001b[0m\n",
            "\u001b[1;32mc:\\Users\\cparker\\Anaconda\\lib\\site-packages\\joblib\\parallel.py\u001b[0m in \u001b[0;36m<listcomp>\u001b[1;34m(.0)\u001b[0m\n\u001b[0;32m    261\u001b[0m         \u001b[1;31m# change the default number of processes to -1\u001b[0m\u001b[1;33m\u001b[0m\u001b[1;33m\u001b[0m\u001b[0m\n\u001b[0;32m    262\u001b[0m         \u001b[1;32mwith\u001b[0m \u001b[0mparallel_backend\u001b[0m\u001b[1;33m(\u001b[0m\u001b[0mself\u001b[0m\u001b[1;33m.\u001b[0m\u001b[0m_backend\u001b[0m\u001b[1;33m,\u001b[0m \u001b[0mn_jobs\u001b[0m\u001b[1;33m=\u001b[0m\u001b[0mself\u001b[0m\u001b[1;33m.\u001b[0m\u001b[0m_n_jobs\u001b[0m\u001b[1;33m)\u001b[0m\u001b[1;33m:\u001b[0m\u001b[1;33m\u001b[0m\u001b[1;33m\u001b[0m\u001b[0m\n\u001b[1;32m--> 263\u001b[1;33m             return [func(*args, **kwargs)\n\u001b[0m\u001b[0;32m    264\u001b[0m                     for func, args, kwargs in self.items]\n\u001b[0;32m    265\u001b[0m \u001b[1;33m\u001b[0m\u001b[0m\n",
            "\u001b[1;32mc:\\Users\\cparker\\Anaconda\\lib\\site-packages\\sklearn\\utils\\fixes.py\u001b[0m in \u001b[0;36m__call__\u001b[1;34m(self, *args, **kwargs)\u001b[0m\n\u001b[0;32m    115\u001b[0m     \u001b[1;32mdef\u001b[0m \u001b[0m__call__\u001b[0m\u001b[1;33m(\u001b[0m\u001b[0mself\u001b[0m\u001b[1;33m,\u001b[0m \u001b[1;33m*\u001b[0m\u001b[0margs\u001b[0m\u001b[1;33m,\u001b[0m \u001b[1;33m**\u001b[0m\u001b[0mkwargs\u001b[0m\u001b[1;33m)\u001b[0m\u001b[1;33m:\u001b[0m\u001b[1;33m\u001b[0m\u001b[1;33m\u001b[0m\u001b[0m\n\u001b[0;32m    116\u001b[0m         \u001b[1;32mwith\u001b[0m \u001b[0mconfig_context\u001b[0m\u001b[1;33m(\u001b[0m\u001b[1;33m**\u001b[0m\u001b[0mself\u001b[0m\u001b[1;33m.\u001b[0m\u001b[0mconfig\u001b[0m\u001b[1;33m)\u001b[0m\u001b[1;33m:\u001b[0m\u001b[1;33m\u001b[0m\u001b[1;33m\u001b[0m\u001b[0m\n\u001b[1;32m--> 117\u001b[1;33m             \u001b[1;32mreturn\u001b[0m \u001b[0mself\u001b[0m\u001b[1;33m.\u001b[0m\u001b[0mfunction\u001b[0m\u001b[1;33m(\u001b[0m\u001b[1;33m*\u001b[0m\u001b[0margs\u001b[0m\u001b[1;33m,\u001b[0m \u001b[1;33m**\u001b[0m\u001b[0mkwargs\u001b[0m\u001b[1;33m)\u001b[0m\u001b[1;33m\u001b[0m\u001b[1;33m\u001b[0m\u001b[0m\n\u001b[0m\u001b[0;32m    118\u001b[0m \u001b[1;33m\u001b[0m\u001b[0m\n\u001b[0;32m    119\u001b[0m \u001b[1;33m\u001b[0m\u001b[0m\n",
            "\u001b[1;32mc:\\Users\\cparker\\Anaconda\\lib\\site-packages\\sklearn\\model_selection\\_validation.py\u001b[0m in \u001b[0;36m_fit_and_score\u001b[1;34m(estimator, X, y, scorer, train, test, verbose, parameters, fit_params, return_train_score, return_parameters, return_n_test_samples, return_times, return_estimator, split_progress, candidate_progress, error_score)\u001b[0m\n\u001b[0;32m    684\u001b[0m             \u001b[0mestimator\u001b[0m\u001b[1;33m.\u001b[0m\u001b[0mfit\u001b[0m\u001b[1;33m(\u001b[0m\u001b[0mX_train\u001b[0m\u001b[1;33m,\u001b[0m \u001b[1;33m**\u001b[0m\u001b[0mfit_params\u001b[0m\u001b[1;33m)\u001b[0m\u001b[1;33m\u001b[0m\u001b[1;33m\u001b[0m\u001b[0m\n\u001b[0;32m    685\u001b[0m         \u001b[1;32melse\u001b[0m\u001b[1;33m:\u001b[0m\u001b[1;33m\u001b[0m\u001b[1;33m\u001b[0m\u001b[0m\n\u001b[1;32m--> 686\u001b[1;33m             \u001b[0mestimator\u001b[0m\u001b[1;33m.\u001b[0m\u001b[0mfit\u001b[0m\u001b[1;33m(\u001b[0m\u001b[0mX_train\u001b[0m\u001b[1;33m,\u001b[0m \u001b[0my_train\u001b[0m\u001b[1;33m,\u001b[0m \u001b[1;33m**\u001b[0m\u001b[0mfit_params\u001b[0m\u001b[1;33m)\u001b[0m\u001b[1;33m\u001b[0m\u001b[1;33m\u001b[0m\u001b[0m\n\u001b[0m\u001b[0;32m    687\u001b[0m \u001b[1;33m\u001b[0m\u001b[0m\n\u001b[0;32m    688\u001b[0m     \u001b[1;32mexcept\u001b[0m \u001b[0mException\u001b[0m\u001b[1;33m:\u001b[0m\u001b[1;33m\u001b[0m\u001b[1;33m\u001b[0m\u001b[0m\n",
            "\u001b[1;32mc:\\Users\\cparker\\Anaconda\\lib\\site-packages\\xgboost\\core.py\u001b[0m in \u001b[0;36minner_f\u001b[1;34m(*args, **kwargs)\u001b[0m\n\u001b[0;32m    618\u001b[0m             \u001b[1;32mfor\u001b[0m \u001b[0mk\u001b[0m\u001b[1;33m,\u001b[0m \u001b[0marg\u001b[0m \u001b[1;32min\u001b[0m \u001b[0mzip\u001b[0m\u001b[1;33m(\u001b[0m\u001b[0msig\u001b[0m\u001b[1;33m.\u001b[0m\u001b[0mparameters\u001b[0m\u001b[1;33m,\u001b[0m \u001b[0margs\u001b[0m\u001b[1;33m)\u001b[0m\u001b[1;33m:\u001b[0m\u001b[1;33m\u001b[0m\u001b[1;33m\u001b[0m\u001b[0m\n\u001b[0;32m    619\u001b[0m                 \u001b[0mkwargs\u001b[0m\u001b[1;33m[\u001b[0m\u001b[0mk\u001b[0m\u001b[1;33m]\u001b[0m \u001b[1;33m=\u001b[0m \u001b[0marg\u001b[0m\u001b[1;33m\u001b[0m\u001b[1;33m\u001b[0m\u001b[0m\n\u001b[1;32m--> 620\u001b[1;33m             \u001b[1;32mreturn\u001b[0m \u001b[0mfunc\u001b[0m\u001b[1;33m(\u001b[0m\u001b[1;33m**\u001b[0m\u001b[0mkwargs\u001b[0m\u001b[1;33m)\u001b[0m\u001b[1;33m\u001b[0m\u001b[1;33m\u001b[0m\u001b[0m\n\u001b[0m\u001b[0;32m    621\u001b[0m \u001b[1;33m\u001b[0m\u001b[0m\n\u001b[0;32m    622\u001b[0m         \u001b[1;32mreturn\u001b[0m \u001b[0minner_f\u001b[0m\u001b[1;33m\u001b[0m\u001b[1;33m\u001b[0m\u001b[0m\n",
            "\u001b[1;32mc:\\Users\\cparker\\Anaconda\\lib\\site-packages\\xgboost\\sklearn.py\u001b[0m in \u001b[0;36mfit\u001b[1;34m(self, X, y, sample_weight, base_margin, eval_set, eval_metric, early_stopping_rounds, verbose, xgb_model, sample_weight_eval_set, base_margin_eval_set, feature_weights, callbacks)\u001b[0m\n\u001b[0;32m   1514\u001b[0m             )\n\u001b[0;32m   1515\u001b[0m \u001b[1;33m\u001b[0m\u001b[0m\n\u001b[1;32m-> 1516\u001b[1;33m             self._Booster = train(\n\u001b[0m\u001b[0;32m   1517\u001b[0m                 \u001b[0mparams\u001b[0m\u001b[1;33m,\u001b[0m\u001b[1;33m\u001b[0m\u001b[1;33m\u001b[0m\u001b[0m\n\u001b[0;32m   1518\u001b[0m                 \u001b[0mtrain_dmatrix\u001b[0m\u001b[1;33m,\u001b[0m\u001b[1;33m\u001b[0m\u001b[1;33m\u001b[0m\u001b[0m\n",
            "\u001b[1;32mc:\\Users\\cparker\\Anaconda\\lib\\site-packages\\xgboost\\core.py\u001b[0m in \u001b[0;36minner_f\u001b[1;34m(*args, **kwargs)\u001b[0m\n\u001b[0;32m    618\u001b[0m             \u001b[1;32mfor\u001b[0m \u001b[0mk\u001b[0m\u001b[1;33m,\u001b[0m \u001b[0marg\u001b[0m \u001b[1;32min\u001b[0m \u001b[0mzip\u001b[0m\u001b[1;33m(\u001b[0m\u001b[0msig\u001b[0m\u001b[1;33m.\u001b[0m\u001b[0mparameters\u001b[0m\u001b[1;33m,\u001b[0m \u001b[0margs\u001b[0m\u001b[1;33m)\u001b[0m\u001b[1;33m:\u001b[0m\u001b[1;33m\u001b[0m\u001b[1;33m\u001b[0m\u001b[0m\n\u001b[0;32m    619\u001b[0m                 \u001b[0mkwargs\u001b[0m\u001b[1;33m[\u001b[0m\u001b[0mk\u001b[0m\u001b[1;33m]\u001b[0m \u001b[1;33m=\u001b[0m \u001b[0marg\u001b[0m\u001b[1;33m\u001b[0m\u001b[1;33m\u001b[0m\u001b[0m\n\u001b[1;32m--> 620\u001b[1;33m             \u001b[1;32mreturn\u001b[0m \u001b[0mfunc\u001b[0m\u001b[1;33m(\u001b[0m\u001b[1;33m**\u001b[0m\u001b[0mkwargs\u001b[0m\u001b[1;33m)\u001b[0m\u001b[1;33m\u001b[0m\u001b[1;33m\u001b[0m\u001b[0m\n\u001b[0m\u001b[0;32m    621\u001b[0m \u001b[1;33m\u001b[0m\u001b[0m\n\u001b[0;32m    622\u001b[0m         \u001b[1;32mreturn\u001b[0m \u001b[0minner_f\u001b[0m\u001b[1;33m\u001b[0m\u001b[1;33m\u001b[0m\u001b[0m\n",
            "\u001b[1;32mc:\\Users\\cparker\\Anaconda\\lib\\site-packages\\xgboost\\training.py\u001b[0m in \u001b[0;36mtrain\u001b[1;34m(params, dtrain, num_boost_round, evals, obj, feval, maximize, early_stopping_rounds, evals_result, verbose_eval, xgb_model, callbacks, custom_metric)\u001b[0m\n\u001b[0;32m    183\u001b[0m         \u001b[1;32mif\u001b[0m \u001b[0mcb_container\u001b[0m\u001b[1;33m.\u001b[0m\u001b[0mbefore_iteration\u001b[0m\u001b[1;33m(\u001b[0m\u001b[0mbst\u001b[0m\u001b[1;33m,\u001b[0m \u001b[0mi\u001b[0m\u001b[1;33m,\u001b[0m \u001b[0mdtrain\u001b[0m\u001b[1;33m,\u001b[0m \u001b[0mevals\u001b[0m\u001b[1;33m)\u001b[0m\u001b[1;33m:\u001b[0m\u001b[1;33m\u001b[0m\u001b[1;33m\u001b[0m\u001b[0m\n\u001b[0;32m    184\u001b[0m             \u001b[1;32mbreak\u001b[0m\u001b[1;33m\u001b[0m\u001b[1;33m\u001b[0m\u001b[0m\n\u001b[1;32m--> 185\u001b[1;33m         \u001b[0mbst\u001b[0m\u001b[1;33m.\u001b[0m\u001b[0mupdate\u001b[0m\u001b[1;33m(\u001b[0m\u001b[0mdtrain\u001b[0m\u001b[1;33m,\u001b[0m \u001b[0mi\u001b[0m\u001b[1;33m,\u001b[0m \u001b[0mobj\u001b[0m\u001b[1;33m)\u001b[0m\u001b[1;33m\u001b[0m\u001b[1;33m\u001b[0m\u001b[0m\n\u001b[0m\u001b[0;32m    186\u001b[0m         \u001b[1;32mif\u001b[0m \u001b[0mcb_container\u001b[0m\u001b[1;33m.\u001b[0m\u001b[0mafter_iteration\u001b[0m\u001b[1;33m(\u001b[0m\u001b[0mbst\u001b[0m\u001b[1;33m,\u001b[0m \u001b[0mi\u001b[0m\u001b[1;33m,\u001b[0m \u001b[0mdtrain\u001b[0m\u001b[1;33m,\u001b[0m \u001b[0mevals\u001b[0m\u001b[1;33m)\u001b[0m\u001b[1;33m:\u001b[0m\u001b[1;33m\u001b[0m\u001b[1;33m\u001b[0m\u001b[0m\n\u001b[0;32m    187\u001b[0m             \u001b[1;32mbreak\u001b[0m\u001b[1;33m\u001b[0m\u001b[1;33m\u001b[0m\u001b[0m\n",
            "\u001b[1;32mc:\\Users\\cparker\\Anaconda\\lib\\site-packages\\xgboost\\core.py\u001b[0m in \u001b[0;36mupdate\u001b[1;34m(self, dtrain, iteration, fobj)\u001b[0m\n\u001b[0;32m   1916\u001b[0m \u001b[1;33m\u001b[0m\u001b[0m\n\u001b[0;32m   1917\u001b[0m         \u001b[1;32mif\u001b[0m \u001b[0mfobj\u001b[0m \u001b[1;32mis\u001b[0m \u001b[1;32mNone\u001b[0m\u001b[1;33m:\u001b[0m\u001b[1;33m\u001b[0m\u001b[1;33m\u001b[0m\u001b[0m\n\u001b[1;32m-> 1918\u001b[1;33m             _check_call(_LIB.XGBoosterUpdateOneIter(self.handle,\n\u001b[0m\u001b[0;32m   1919\u001b[0m                                                     \u001b[0mctypes\u001b[0m\u001b[1;33m.\u001b[0m\u001b[0mc_int\u001b[0m\u001b[1;33m(\u001b[0m\u001b[0miteration\u001b[0m\u001b[1;33m)\u001b[0m\u001b[1;33m,\u001b[0m\u001b[1;33m\u001b[0m\u001b[1;33m\u001b[0m\u001b[0m\n\u001b[0;32m   1920\u001b[0m                                                     dtrain.handle))\n",
            "\u001b[1;31mKeyboardInterrupt\u001b[0m: "
          ]
        }
      ],
      "source": [
        "GS.fit(X_train,y_train)"
      ]
    },
    {
      "cell_type": "markdown",
      "metadata": {
        "id": "S5xo6c5bYrVX"
      },
      "source": [
        "To get only the best hyperparameter values"
      ]
    },
    {
      "cell_type": "code",
      "execution_count": 16,
      "metadata": {
        "id": "LAMc2NDvUjZD"
      },
      "outputs": [],
      "source": [
        "#print(GS.best_params_) "
      ]
    },
    {
      "cell_type": "markdown",
      "metadata": {
        "id": "KN3LSmHXYxrI"
      },
      "source": [
        "Initially, I validate the model with its default parameters, and then I will validate it with its tuned parameters."
      ]
    },
    {
      "cell_type": "markdown",
      "metadata": {
        "id": "qEE4d-4jZXng"
      },
      "source": [
        "* **Default Hyperparameters**"
      ]
    },
    {
      "cell_type": "code",
      "execution_count": 17,
      "metadata": {
        "colab": {
          "base_uri": "https://localhost:8080/",
          "height": 453
        },
        "execution": {
          "iopub.execute_input": "2022-09-16T05:52:44.484651Z",
          "iopub.status.busy": "2022-09-16T05:52:44.484309Z",
          "iopub.status.idle": "2022-09-16T05:52:56.859314Z",
          "shell.execute_reply": "2022-09-16T05:52:56.858052Z",
          "shell.execute_reply.started": "2022-09-16T05:52:44.484626Z"
        },
        "id": "4w494WbwczzC",
        "outputId": "5a51e8e3-0107-42ed-bbdf-3e38bcb9fa1e"
      },
      "outputs": [
        {
          "name": "stdout",
          "output_type": "stream",
          "text": [
            "              precision    recall  f1-score   support\n",
            "\n",
            "           0       0.54      0.61      0.58       121\n",
            "           1       0.65      0.87      0.74       240\n",
            "           2       0.17      0.01      0.02       105\n",
            "\n",
            "    accuracy                           0.61       466\n",
            "   macro avg       0.45      0.50      0.45       466\n",
            "weighted avg       0.51      0.61      0.54       466\n",
            "\n"
          ]
        },
        {
          "data": {
            "image/png": "[encoded data removed]",
            "text/plain": [
              "<Figure size 432x288 with 2 Axes>"
            ]
          },
          "metadata": {
            "needs_background": "light"
          },
          "output_type": "display_data"
        }
      ],
      "source": [
        "model = XGBClassifier()\n",
        "model.fit(X_train,y_train)\n",
        "y_pred = model.predict(X_hold_test)\n",
        "print(classification_report(y_hold_test,y_pred))\n",
        "ConfusionMatrixDisplay.from_predictions(y_hold_test,y_pred);"
      ]
    },
    {
      "cell_type": "markdown",
      "metadata": {
        "id": "J4mlxyLvZkW1"
      },
      "source": [
        "* **Tuned Hyperparameters**"
      ]
    },
    {
      "cell_type": "code",
      "execution_count": 18,
      "metadata": {
        "colab": {
          "base_uri": "https://localhost:8080/",
          "height": 453
        },
        "id": "W-Hnbe-3dRKa",
        "outputId": "ce9020a1-4dd8-4ffa-a38f-a9d5d8cee449"
      },
      "outputs": [
        {
          "name": "stdout",
          "output_type": "stream",
          "text": [
            "              precision    recall  f1-score   support\n",
            "\n",
            "           0       0.57      0.63      0.60       121\n",
            "           1       0.64      0.88      0.75       240\n",
            "           2       0.25      0.01      0.02       105\n",
            "\n",
            "    accuracy                           0.62       466\n",
            "   macro avg       0.49      0.51      0.45       466\n",
            "weighted avg       0.54      0.62      0.54       466\n",
            "\n"
          ]
        },
        {
          "data": {
            "image/png": "[encoded data removed]",
            "text/plain": [
              "<Figure size 432x288 with 2 Axes>"
            ]
          },
          "metadata": {
            "needs_background": "light"
          },
          "output_type": "display_data"
        }
      ],
      "source": [
        "model = XGBClassifier(use_label_encoder = False, gamma = 0.01, learning_rate = 0.01, n_estimators = 300, max_depth = 4)\n",
        "model.fit(X_train,y_train)\n",
        "y_pred = model.predict(X_hold_test)\n",
        "print(classification_report(y_hold_test,y_pred))\n",
        "ConfusionMatrixDisplay.from_predictions(y_hold_test,y_pred);"
      ]
    },
    {
      "cell_type": "markdown",
      "metadata": {
        "id": "3J9VC5lIbrnq"
      },
      "source": [
        "The model improves a bit, so I will create a pipe to use the model later easily."
      ]
    },
    {
      "cell_type": "markdown",
      "metadata": {
        "id": "q_KSlSYgvl06"
      },
      "source": [
        "### Creating a pipeline for the XGB model"
      ]
    },
    {
      "cell_type": "code",
      "execution_count": 19,
      "metadata": {
        "colab": {
          "base_uri": "https://localhost:8080/"
        },
        "execution": {
          "iopub.execute_input": "2022-09-16T05:53:24.432991Z",
          "iopub.status.busy": "2022-09-16T05:53:24.432684Z",
          "iopub.status.idle": "2022-09-16T05:53:25.908724Z",
          "shell.execute_reply": "2022-09-16T05:53:25.908102Z",
          "shell.execute_reply.started": "2022-09-16T05:53:24.432968Z"
        },
        "id": "LxTk1OzdczzD",
        "outputId": "9332cbdf-c5fa-41f4-a24c-7c76add65b9f"
      },
      "outputs": [
        {
          "data": {
            "text/plain": [
              "Pipeline(steps=[('columntransformer',\n",
              "                 ColumnTransformer(remainder='passthrough',\n",
              "                                   transformers=[('onehotencoder',\n",
              "                                                  OneHotEncoder(),\n",
              "                                                  ['Team1', 'Team2'])])),\n",
              "                ('standardscaler', StandardScaler(with_mean=False)),\n",
              "                ('xgbclassifier',\n",
              "                 XGBClassifier(gamma=0.01, learning_rate=0.01, max_depth=4,\n",
              "                               n_estimators=300, objective='multi:softprob',\n",
              "                               use_label_encoder=False))])"
            ]
          },
          "execution_count": 19,
          "metadata": {},
          "output_type": "execute_result"
        }
      ],
      "source": [
        "from sklearn.preprocessing import OneHotEncoder\n",
        "from sklearn.compose import make_column_transformer\n",
        "column_trans = make_column_transformer(\n",
        "    (OneHotEncoder(),['Team1', 'Team2']),remainder='passthrough')\n",
        "\n",
        "pipe_X = pipe_DF.drop('Team1_Result',axis=1)\n",
        "pipe_y = pipe_DF['Team1_Result']\n",
        "\n",
        "from sklearn.pipeline import make_pipeline\n",
        "pipe_League = make_pipeline(column_trans,StandardScaler(with_mean=False),XGBClassifier(use_label_encoder=False, gamma= 0.01, learning_rate= 0.01, n_estimators= 300, max_depth= 4))\n",
        "pipe_League.fit(pipe_X,pipe_y)"
      ]
    },
    {
      "cell_type": "code",
      "execution_count": 20,
      "metadata": {
        "colab": {
          "base_uri": "https://localhost:8080/"
        },
        "execution": {
          "iopub.execute_input": "2022-09-16T05:54:13.572427Z",
          "iopub.status.busy": "2022-09-16T05:54:13.571673Z",
          "iopub.status.idle": "2022-09-16T05:54:13.577063Z",
          "shell.execute_reply": "2022-09-16T05:54:13.575885Z",
          "shell.execute_reply.started": "2022-09-16T05:54:13.572401Z"
        },
        "id": "oDEXffzJczzD",
        "outputId": "f8ea8637-4137-4e15-cd24-7fae62c71703"
      },
      "outputs": [
        {
          "data": {
            "text/plain": [
              "['/content/drive/MyDrive/models/groups_stage_prediction.pkl']"
            ]
          },
          "execution_count": 20,
          "metadata": {},
          "output_type": "execute_result"
        }
      ],
      "source": [
        "import joblib\n",
        "joblib.dump(pipe_League,\"/content/drive/MyDrive/models/groups_stage_prediction.pkl\")"
      ]
    },
    {
      "cell_type": "markdown",
      "metadata": {
        "id": "AzR2pbBKScRC"
      },
      "source": [
        "# KNOCKOUT STAGE MODELING"
      ]
    },
    {
      "cell_type": "markdown",
      "metadata": {
        "id": "boNp6N7wczzD"
      },
      "source": [
        "### Choosing the model \n",
        "\n",
        "Removing Draw status."
      ]
    },
    {
      "cell_type": "code",
      "execution_count": 21,
      "metadata": {
        "execution": {
          "iopub.execute_input": "2022-09-16T05:55:12.365981Z",
          "iopub.status.busy": "2022-09-16T05:55:12.365639Z",
          "iopub.status.idle": "2022-09-16T05:55:12.370822Z",
          "shell.execute_reply": "2022-09-16T05:55:12.370166Z",
          "shell.execute_reply.started": "2022-09-16T05:55:12.365956Z"
        },
        "id": "v8E5xi-QczzD"
      },
      "outputs": [],
      "source": [
        "knock_df = pipe_DF[pipe_DF['Team1_Result'] != 2]"
      ]
    },
    {
      "cell_type": "code",
      "execution_count": 22,
      "metadata": {
        "execution": {
          "iopub.execute_input": "2022-09-16T05:55:18.258961Z",
          "iopub.status.busy": "2022-09-16T05:55:18.25865Z",
          "iopub.status.idle": "2022-09-16T05:55:18.31508Z",
          "shell.execute_reply": "2022-09-16T05:55:18.313224Z",
          "shell.execute_reply.started": "2022-09-16T05:55:18.258937Z"
        },
        "id": "bsDyLjCLczzD"
      },
      "outputs": [],
      "source": [
        "pipe_knock_df = knock_df\n",
        "knock_df = pd.get_dummies(knock_df)\n",
        "X = knock_df.drop('Team1_Result',axis=1)\n",
        "y = knock_df['Team1_Result']\n",
        "\n",
        "X_train, X_val, y_train, y_val = train_test_split(X, y, test_size=0.2, random_state=42)\n",
        "X_hold_test, X_test, y_hold_test, y_test = train_test_split(X_val, y_val, test_size=0.5, random_state=42)"
      ]
    },
    {
      "cell_type": "markdown",
      "metadata": {
        "id": "SqnjpmaX2viz"
      },
      "source": [
        "* **Ada Boost Classifier**"
      ]
    },
    {
      "cell_type": "code",
      "execution_count": 23,
      "metadata": {
        "colab": {
          "base_uri": "https://localhost:8080/",
          "height": 435
        },
        "id": "kBvDy5BU3FvW",
        "outputId": "0fd477a6-34d2-4f46-8f57-83563519c5ce"
      },
      "outputs": [
        {
          "name": "stdout",
          "output_type": "stream",
          "text": [
            "              precision    recall  f1-score   support\n",
            "\n",
            "           0       0.69      0.61      0.65       243\n",
            "           1       0.81      0.86      0.84       479\n",
            "\n",
            "    accuracy                           0.78       722\n",
            "   macro avg       0.75      0.74      0.74       722\n",
            "weighted avg       0.77      0.78      0.77       722\n",
            "\n"
          ]
        },
        {
          "data": {
            "image/png": "[encoded data removed]",
            "text/plain": [
              "<Figure size 432x288 with 2 Axes>"
            ]
          },
          "metadata": {
            "needs_background": "light"
          },
          "output_type": "display_data"
        }
      ],
      "source": [
        "metrics_display(AdaBoostClassifier())"
      ]
    },
    {
      "cell_type": "markdown",
      "metadata": {
        "id": "SbLMG5oRyTqu"
      },
      "source": [
        "*   **Random Forest**\n",
        "\n",
        "\n"
      ]
    },
    {
      "cell_type": "code",
      "execution_count": 26,
      "metadata": {
        "colab": {
          "base_uri": "https://localhost:8080/",
          "height": 439
        },
        "execution": {
          "iopub.execute_input": "2022-09-16T05:55:24.034641Z",
          "iopub.status.busy": "2022-09-16T05:55:24.03432Z",
          "iopub.status.idle": "2022-09-16T05:55:25.501571Z",
          "shell.execute_reply": "2022-09-16T05:55:25.500211Z",
          "shell.execute_reply.started": "2022-09-16T05:55:24.034617Z"
        },
        "id": "vGKPOymlczzD",
        "outputId": "6747a355-809d-4a04-8ad6-d6fc64c42742"
      },
      "outputs": [
        {
          "name": "stdout",
          "output_type": "stream",
          "text": [
            "              precision    recall  f1-score   support\n",
            "\n",
            "           0       0.67      0.65      0.66       243\n",
            "           1       0.82      0.84      0.83       479\n",
            "\n",
            "    accuracy                           0.77       722\n",
            "   macro avg       0.75      0.74      0.74       722\n",
            "weighted avg       0.77      0.77      0.77       722\n",
            "\n"
          ]
        },
        {
          "data": {
            "image/png": "[encoded data removed]",
            "text/plain": [
              "<Figure size 432x288 with 2 Axes>"
            ]
          },
          "metadata": {
            "needs_background": "light"
          },
          "output_type": "display_data"
        }
      ],
      "source": [
        "metrics_display(RandomForestClassifier())"
      ]
    },
    {
      "cell_type": "markdown",
      "metadata": {
        "id": "jXAem3jt22nW"
      },
      "source": [
        "* **XGB Boost**"
      ]
    },
    {
      "cell_type": "code",
      "execution_count": 27,
      "metadata": {
        "colab": {
          "base_uri": "https://localhost:8080/",
          "height": 435
        },
        "id": "sQNPnjof2848",
        "outputId": "3e7030de-8537-4a3b-dc0e-b3fde1ae724d"
      },
      "outputs": [
        {
          "name": "stdout",
          "output_type": "stream",
          "text": [
            "              precision    recall  f1-score   support\n",
            "\n",
            "           0       0.69      0.65      0.67       243\n",
            "           1       0.83      0.85      0.84       479\n",
            "\n",
            "    accuracy                           0.78       722\n",
            "   macro avg       0.76      0.75      0.75       722\n",
            "weighted avg       0.78      0.78      0.78       722\n",
            "\n"
          ]
        },
        {
          "data": {
            "image/png": "[encoded data removed]",
            "text/plain": [
              "<Figure size 432x288 with 2 Axes>"
            ]
          },
          "metadata": {
            "needs_background": "light"
          },
          "output_type": "display_data"
        }
      ],
      "source": [
        "metrics_display(XGBClassifier(use_label_encoder=False))"
      ]
    },
    {
      "cell_type": "markdown",
      "metadata": {
        "id": "yrm8CW4xl5D9"
      },
      "source": [
        "* **Neural network**"
      ]
    },
    {
      "cell_type": "code",
      "execution_count": 28,
      "metadata": {
        "colab": {
          "base_uri": "https://localhost:8080/"
        },
        "id": "tFpDOtPalmmu",
        "outputId": "1fc74671-1e33-4bcb-cf02-007d21518d64"
      },
      "outputs": [
        {
          "data": {
            "text/plain": [
              "(5772, 399)"
            ]
          },
          "execution_count": 28,
          "metadata": {},
          "output_type": "execute_result"
        }
      ],
      "source": [
        "X_train.shape"
      ]
    },
    {
      "cell_type": "code",
      "execution_count": 30,
      "metadata": {
        "colab": {
          "base_uri": "https://localhost:8080/",
          "height": 800
        },
        "id": "ZDUgJSJplrTs",
        "outputId": "b92fbe46-3e02-4e78-c212-180f14857dff"
      },
      "outputs": [
        {
          "name": "stdout",
          "output_type": "stream",
          "text": [
            "Epoch 1/10\n",
            "145/145 [==============================] - 2s 5ms/step - loss: 1.0222 - accuracy: 0.6576 - val_loss: 0.5187 - val_accuracy: 0.7801\n",
            "Epoch 2/10\n",
            "145/145 [==============================] - 1s 4ms/step - loss: 0.5617 - accuracy: 0.7150 - val_loss: 0.5289 - val_accuracy: 0.7636\n",
            "Epoch 3/10\n",
            "145/145 [==============================] - 1s 4ms/step - loss: 0.5335 - accuracy: 0.7386 - val_loss: 0.5226 - val_accuracy: 0.7714\n",
            "Epoch 4/10\n",
            "145/145 [==============================] - 1s 4ms/step - loss: 0.5144 - accuracy: 0.7449 - val_loss: 0.4758 - val_accuracy: 0.7913\n",
            "Epoch 5/10\n",
            "145/145 [==============================] - 1s 4ms/step - loss: 0.4997 - accuracy: 0.7488 - val_loss: 0.4909 - val_accuracy: 0.7593\n",
            "Epoch 6/10\n",
            "145/145 [==============================] - 1s 4ms/step - loss: 0.5014 - accuracy: 0.7537 - val_loss: 0.4820 - val_accuracy: 0.7688\n",
            "Epoch 7/10\n",
            "145/145 [==============================] - 1s 5ms/step - loss: 0.4996 - accuracy: 0.7550 - val_loss: 0.4677 - val_accuracy: 0.7948\n",
            "Epoch 8/10\n",
            "145/145 [==============================] - 1s 4ms/step - loss: 0.5007 - accuracy: 0.7509 - val_loss: 0.4827 - val_accuracy: 0.7688\n",
            "Epoch 9/10\n",
            "145/145 [==============================] - 1s 4ms/step - loss: 0.4944 - accuracy: 0.7563 - val_loss: 0.4782 - val_accuracy: 0.7801\n",
            "Epoch 10/10\n",
            "145/145 [==============================] - 1s 5ms/step - loss: 0.4962 - accuracy: 0.7600 - val_loss: 0.4733 - val_accuracy: 0.7957\n",
            "              precision    recall  f1-score   support\n",
            "\n",
            "           0       0.72      0.57      0.64       243\n",
            "           1       0.80      0.89      0.84       479\n",
            "\n",
            "    accuracy                           0.78       722\n",
            "   macro avg       0.76      0.73      0.74       722\n",
            "weighted avg       0.77      0.78      0.77       722\n",
            "\n"
          ]
        },
        {
          "data": {
            "text/plain": [
              "<sklearn.metrics._plot.confusion_matrix.ConfusionMatrixDisplay at 0x7f8a01db3b10>"
            ]
          },
          "execution_count": 30,
          "metadata": {},
          "output_type": "execute_result"
        },
        {
          "data": {
            "image/png": "[encoded data removed]",
            "text/plain": [
              "<Figure size 432x288 with 2 Axes>"
            ]
          },
          "metadata": {
            "needs_background": "light"
          },
          "output_type": "display_data"
        }
      ],
      "source": [
        "model = Sequential()\n",
        "model.add(Input(shape=(399,)))\n",
        "model.add(Dense(300,activation='relu'))\n",
        "model.add(Dropout(0.3))\n",
        "model.add(Dense(200,activation='relu'))\n",
        "model.add(Dropout(0.3))\n",
        "model.add(Dense(100,activation='relu'))\n",
        "model.add(Dropout(0.3))\n",
        "model.add(Dense(2,activation='softmax'))\n",
        "model.compile(loss='sparse_categorical_crossentropy', optimizer='adam', metrics=['accuracy'])\n",
        "model.fit(X_train,y_train,epochs=10,validation_split=0.2)\n",
        "\n",
        "y_pred1 = model.predict(X_test)\n",
        "y_pred1 = np.argmax(y_pred1,axis=1)\n",
        "print(classification_report(y_test,y_pred1))\n",
        "ConfusionMatrixDisplay.from_predictions(y_test,y_pred1)"
      ]
    },
    {
      "cell_type": "markdown",
      "metadata": {
        "id": "Ws9HFTkFe8Jq"
      },
      "source": [
        "All models have very similar performance. Therefore I will tune the Random Forest model and the XGB Boost."
      ]
    },
    {
      "cell_type": "markdown",
      "metadata": {
        "id": "TyNoBxnDy2tO"
      },
      "source": [
        "### Random Forest - Tuning & Hold-out Validation "
      ]
    },
    {
      "cell_type": "code",
      "execution_count": 31,
      "metadata": {
        "id": "Zvde7Gisy6eI"
      },
      "outputs": [],
      "source": [
        "search_space = {\n",
        "    \"max_depth\" : [11,12,13,14,15,16],\n",
        "    \"max_leaf_nodes\" : [170,180,190,200,210,220,230],\n",
        "    \"min_samples_leaf\" : [3,4,5,6,7,8],\n",
        "    \"n_estimators\" : [310,320,330,340,350]\n",
        "}"
      ]
    },
    {
      "cell_type": "code",
      "execution_count": 32,
      "metadata": {
        "id": "FFiPVZTT9qVS"
      },
      "outputs": [],
      "source": [
        "GS = GridSearchCV(estimator = RandomForestClassifier(),\n",
        "                  param_grid = search_space,\n",
        "                  scoring = 'accuracy',\n",
        "                  cv = 5,\n",
        "                  verbose = 4)"
      ]
    },
    {
      "cell_type": "markdown",
      "metadata": {
        "id": "_-jREo3KfzEb"
      },
      "source": [
        "Uncomment the following lines to enable the tuning. The best result I found was: max_depth = 16, n_estimators = 320, max_leaf_nodes = 190, min_samples_leaf = 5"
      ]
    },
    {
      "cell_type": "code",
      "execution_count": 33,
      "metadata": {
        "id": "aLxm0mjI9yff"
      },
      "outputs": [],
      "source": [
        "#GS.fit(X_train,y_train)"
      ]
    },
    {
      "cell_type": "code",
      "execution_count": 34,
      "metadata": {
        "id": "Dx2fO77x93Zh"
      },
      "outputs": [],
      "source": [
        "#print(GS.best_params_)"
      ]
    },
    {
      "cell_type": "markdown",
      "metadata": {
        "id": "I-X18vVDgN9s"
      },
      "source": [
        "* **Default Hyperparameters**"
      ]
    },
    {
      "cell_type": "code",
      "execution_count": 35,
      "metadata": {
        "colab": {
          "base_uri": "https://localhost:8080/",
          "height": 435
        },
        "execution": {
          "iopub.execute_input": "2022-09-16T05:55:41.080729Z",
          "iopub.status.busy": "2022-09-16T05:55:41.080422Z",
          "iopub.status.idle": "2022-09-16T05:55:42.504526Z",
          "shell.execute_reply": "2022-09-16T05:55:42.503528Z",
          "shell.execute_reply.started": "2022-09-16T05:55:41.080705Z"
        },
        "id": "cBB2jLTOczzD",
        "outputId": "6d239d50-3f54-4e69-c022-0348ad1df727"
      },
      "outputs": [
        {
          "name": "stdout",
          "output_type": "stream",
          "text": [
            "              precision    recall  f1-score   support\n",
            "\n",
            "           0       0.68      0.65      0.66       288\n",
            "           1       0.77      0.80      0.78       433\n",
            "\n",
            "    accuracy                           0.74       721\n",
            "   macro avg       0.73      0.72      0.72       721\n",
            "weighted avg       0.74      0.74      0.74       721\n",
            "\n"
          ]
        },
        {
          "data": {
            "image/png": "[encoded data removed]",
            "text/plain": [
              "<Figure size 432x288 with 2 Axes>"
            ]
          },
          "metadata": {
            "needs_background": "light"
          },
          "output_type": "display_data"
        }
      ],
      "source": [
        "model = RandomForestClassifier()\n",
        "model.fit(X_train,y_train)\n",
        "y_pred = model.predict(X_hold_test)\n",
        "print(classification_report(y_hold_test,y_pred))\n",
        "ConfusionMatrixDisplay.from_predictions(y_hold_test,y_pred);"
      ]
    },
    {
      "cell_type": "markdown",
      "metadata": {
        "id": "C9PTFE7agPsH"
      },
      "source": [
        "* **Tuned Hyperparameters**"
      ]
    },
    {
      "cell_type": "code",
      "execution_count": 36,
      "metadata": {
        "colab": {
          "base_uri": "https://localhost:8080/",
          "height": 435
        },
        "id": "ozuLgltocyvt",
        "outputId": "4011c70e-12a9-4dc9-b053-ef8ec8916d93"
      },
      "outputs": [
        {
          "name": "stdout",
          "output_type": "stream",
          "text": [
            "              precision    recall  f1-score   support\n",
            "\n",
            "           0       0.75      0.61      0.68       288\n",
            "           1       0.77      0.86      0.81       433\n",
            "\n",
            "    accuracy                           0.76       721\n",
            "   macro avg       0.76      0.74      0.75       721\n",
            "weighted avg       0.76      0.76      0.76       721\n",
            "\n"
          ]
        },
        {
          "data": {
            "image/png": "[encoded data removed]",
            "text/plain": [
              "<Figure size 432x288 with 2 Axes>"
            ]
          },
          "metadata": {
            "needs_background": "light"
          },
          "output_type": "display_data"
        }
      ],
      "source": [
        "model = RandomForestClassifier(max_depth= 16, n_estimators=320, max_leaf_nodes= 190, min_samples_leaf= 5)\n",
        "model.fit(X_train,y_train)\n",
        "y_pred = model.predict(X_hold_test)\n",
        "print(classification_report(y_hold_test,y_pred))\n",
        "ConfusionMatrixDisplay.from_predictions(y_hold_test,y_pred);"
      ]
    },
    {
      "cell_type": "markdown",
      "metadata": {
        "id": "xedg9BWSgV9m"
      },
      "source": [
        "The Random Forest greatly improves performance with the tuned hyperparameters; let's see the XGB Boost model."
      ]
    },
    {
      "cell_type": "markdown",
      "metadata": {
        "id": "O79SfZrx6pmd"
      },
      "source": [
        "### XGB Boost - Tuning & Hold-out Validation"
      ]
    },
    {
      "cell_type": "code",
      "execution_count": 37,
      "metadata": {
        "id": "ccZeMIGN6GdI"
      },
      "outputs": [],
      "source": [
        "search_space = {\n",
        "    \"n_estimators\" : [300,350,400,450,500,550,600],\n",
        "    \"max_depth\" : [3,4,5,6,7,8,9],\n",
        "    \"gamma\" : [0.001,0.01,0.1],\n",
        "    \"learning_rate\" : [0.001,0.01]\n",
        "}"
      ]
    },
    {
      "cell_type": "code",
      "execution_count": 38,
      "metadata": {
        "id": "NO74fTKH6hXV"
      },
      "outputs": [],
      "source": [
        "GS = GridSearchCV(estimator = XGBClassifier(use_label_encoder=False),\n",
        "                  param_grid = search_space,\n",
        "                  scoring = 'accuracy',\n",
        "                  cv = 5,\n",
        "                  verbose = 4)"
      ]
    },
    {
      "cell_type": "code",
      "execution_count": 39,
      "metadata": {
        "id": "In62_dO06yKr"
      },
      "outputs": [],
      "source": [
        "#GS.fit(X_train,y_train)"
      ]
    },
    {
      "cell_type": "code",
      "execution_count": 40,
      "metadata": {
        "id": "0c-hkbS06zTX"
      },
      "outputs": [],
      "source": [
        "#print(GS.best_params_) # to get only the best hyperparameter values that we searched for"
      ]
    },
    {
      "cell_type": "markdown",
      "metadata": {
        "id": "1EZzGaVlhg0P"
      },
      "source": [
        "Uncomment the following lines to enable the tuning. The best result I found was: gamma = 0.01, learning_rate = 0.01, max_depth = 5, n_estimators = 500"
      ]
    },
    {
      "cell_type": "markdown",
      "metadata": {
        "id": "S1gU6k-6hqy6"
      },
      "source": [
        "* **Default Hyperparameters**"
      ]
    },
    {
      "cell_type": "code",
      "execution_count": 41,
      "metadata": {
        "colab": {
          "base_uri": "https://localhost:8080/",
          "height": 435
        },
        "id": "WzQInRN739j1",
        "outputId": "53e6d003-14e6-47de-bd7b-5184acfc1727"
      },
      "outputs": [
        {
          "name": "stdout",
          "output_type": "stream",
          "text": [
            "              precision    recall  f1-score   support\n",
            "\n",
            "           0       0.75      0.65      0.70       288\n",
            "           1       0.79      0.85      0.82       433\n",
            "\n",
            "    accuracy                           0.77       721\n",
            "   macro avg       0.77      0.75      0.76       721\n",
            "weighted avg       0.77      0.77      0.77       721\n",
            "\n"
          ]
        },
        {
          "data": {
            "image/png": "[encoded data removed]",
            "text/plain": [
              "<Figure size 432x288 with 2 Axes>"
            ]
          },
          "metadata": {
            "needs_background": "light"
          },
          "output_type": "display_data"
        }
      ],
      "source": [
        "model = XGBClassifier()\n",
        "model.fit(X_train,y_train)\n",
        "y_pred = model.predict(X_hold_test)\n",
        "print(classification_report(y_hold_test,y_pred))\n",
        "ConfusionMatrixDisplay.from_predictions(y_hold_test,y_pred);"
      ]
    },
    {
      "cell_type": "markdown",
      "metadata": {
        "id": "kAfBCHC5hsWh"
      },
      "source": [
        "* **Tuned Hyperparameters**"
      ]
    },
    {
      "cell_type": "code",
      "execution_count": 42,
      "metadata": {
        "colab": {
          "base_uri": "https://localhost:8080/",
          "height": 435
        },
        "id": "xO4Vx3LiFCw1",
        "outputId": "b03590a5-2ecf-41a5-b19a-15174d1dc7f4"
      },
      "outputs": [
        {
          "name": "stdout",
          "output_type": "stream",
          "text": [
            "              precision    recall  f1-score   support\n",
            "\n",
            "           0       0.74      0.64      0.69       288\n",
            "           1       0.78      0.85      0.81       433\n",
            "\n",
            "    accuracy                           0.77       721\n",
            "   macro avg       0.76      0.75      0.75       721\n",
            "weighted avg       0.76      0.77      0.76       721\n",
            "\n"
          ]
        },
        {
          "data": {
            "image/png": "[encoded data removed]",
            "text/plain": [
              "<Figure size 432x288 with 2 Axes>"
            ]
          },
          "metadata": {
            "needs_background": "light"
          },
          "output_type": "display_data"
        }
      ],
      "source": [
        "model = XGBClassifier(gamma=0.01,learning_rate=0.01, max_depth=5, n_estimators=500)\n",
        "model.fit(X_train,y_train)\n",
        "y_pred = model.predict(X_hold_test)\n",
        "print(classification_report(y_hold_test,y_pred))\n",
        "ConfusionMatrixDisplay.from_predictions(y_hold_test,y_pred);"
      ]
    },
    {
      "cell_type": "markdown",
      "metadata": {
        "id": "c-XKzHRljYwk"
      },
      "source": [
        "The model does not improve notably. However, it does improve compared to the Random Forest."
      ]
    },
    {
      "cell_type": "markdown",
      "metadata": {
        "id": "x78XUokKzTc9"
      },
      "source": [
        "### Creating a pipeline for the XGB Boost model"
      ]
    },
    {
      "cell_type": "code",
      "execution_count": 43,
      "metadata": {
        "colab": {
          "base_uri": "https://localhost:8080/"
        },
        "execution": {
          "iopub.execute_input": "2022-09-16T05:55:51.628446Z",
          "iopub.status.busy": "2022-09-16T05:55:51.628023Z",
          "iopub.status.idle": "2022-09-16T05:55:54.840042Z",
          "shell.execute_reply": "2022-09-16T05:55:54.839217Z",
          "shell.execute_reply.started": "2022-09-16T05:55:51.628412Z"
        },
        "id": "I7XG9cweczzD",
        "outputId": "1465bdae-3d79-4fcf-edcd-97a8cbe09fdb"
      },
      "outputs": [
        {
          "data": {
            "text/plain": [
              "Pipeline(steps=[('columntransformer',\n",
              "                 ColumnTransformer(remainder='passthrough',\n",
              "                                   transformers=[('onehotencoder',\n",
              "                                                  OneHotEncoder(),\n",
              "                                                  ['Team1', 'Team2'])])),\n",
              "                ('standardscaler', StandardScaler(with_mean=False)),\n",
              "                ('xgbclassifier',\n",
              "                 XGBClassifier(gamma=0.01, learning_rate=0.01, max_depth=5,\n",
              "                               n_estimators=500))])"
            ]
          },
          "execution_count": 43,
          "metadata": {},
          "output_type": "execute_result"
        }
      ],
      "source": [
        "pipe_X = pipe_knock_df.drop('Team1_Result',axis=1)\n",
        "pipe_y = pipe_knock_df['Team1_Result']\n",
        "pipe_knock = make_pipeline(column_trans,StandardScaler(with_mean=False),XGBClassifier(gamma=0.01,learning_rate=0.01, max_depth=5, n_estimators=500))\n",
        "pipe_knock.fit(pipe_X,pipe_y)"
      ]
    },
    {
      "cell_type": "code",
      "execution_count": 44,
      "metadata": {
        "colab": {
          "base_uri": "https://localhost:8080/"
        },
        "execution": {
          "iopub.execute_input": "2022-09-16T05:56:12.363507Z",
          "iopub.status.busy": "2022-09-16T05:56:12.363203Z",
          "iopub.status.idle": "2022-09-16T05:56:12.36764Z",
          "shell.execute_reply": "2022-09-16T05:56:12.366824Z",
          "shell.execute_reply.started": "2022-09-16T05:56:12.363484Z"
        },
        "id": "qyEa4sYmczzD",
        "outputId": "50b50e2f-55a6-47c9-d411-84144775eed0"
      },
      "outputs": [
        {
          "data": {
            "text/plain": [
              "['/content/drive/MyDrive/models/knockout_stage_prediction.pkl']"
            ]
          },
          "execution_count": 44,
          "metadata": {},
          "output_type": "execute_result"
        }
      ],
      "source": [
        "joblib.dump(pipe_knock,\"/content/drive/MyDrive/models/knockout_stage_prediction.pkl\")"
      ]
    }
  ],
  "metadata": {
    "colab": {
      "collapsed_sections": [
        "_7_ON8XCYkI7",
        "FEYek9oklogj",
        "JBPV0DlGnp7Z",
        "Atz3_2DioYo5",
        "q_KSlSYgvl06",
        "TyNoBxnDy2tO",
        "16Po-EIqzGDA"
      ],
      "include_colab_link": true,
      "provenance": []
    },
    "kernelspec": {
      "display_name": "Python 3.9.12 ('base')",
      "language": "python",
      "name": "python3"
    },
    "language_info": {
      "codemirror_mode": {
        "name": "ipython",
        "version": 3
      },
      "file_extension": ".py",
      "mimetype": "text/x-python",
      "name": "python",
      "nbconvert_exporter": "python",
      "pygments_lexer": "ipython3",
      "version": "3.9.12"
    },
    "vscode": {
      "interpreter": {
        "hash": "d61852c169a1bf5eef5dc07a228c97609752a5cac4e7daf66c6d396e35687a0e"
      }
    }
  },
  "nbformat": 4,
  "nbformat_minor": 0
}
